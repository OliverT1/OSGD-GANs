{
 "cells": [
  {
   "cell_type": "code",
   "execution_count": 1,
   "metadata": {},
   "outputs": [],
   "source": [
    "import torch\n",
    "from torch import nn, optim\n",
    "from torch.autograd.variable import Variable"
   ]
  },
  {
   "cell_type": "code",
   "execution_count": 2,
   "metadata": {},
   "outputs": [],
   "source": [
    "BATCH_SIZE = 10\n",
    "lr = 0.001\n"
   ]
  },
  {
   "cell_type": "code",
   "execution_count": 3,
   "metadata": {},
   "outputs": [],
   "source": [
    "class Discriminator(torch.nn.Module):\n",
    "    #Input : Integer\n",
    "    #Output : Probability(from Normal Distribution)\n",
    "    \n",
    "    def __init__(self):\n",
    "        super(Discriminator,self).__init__()\n",
    "        \n",
    "        dim = 1\n",
    "        \n",
    "        self.input = nn.Sequential(\n",
    "            nn.Linear(dim,64),\n",
    "            nn.LeakyReLU(0.1)\n",
    "        )\n",
    "        \n",
    "        self.hidden = nn.Sequential(\n",
    "            nn.Linear(64,1),\n",
    "            nn.Sigmoid()\n",
    "        )\n",
    "        \n",
    "        \n",
    "    def forward(self,x):\n",
    "        x = self.input(x)\n",
    "        x = self.hidden(x)\n",
    "        return x\n",
    "    \n",
    "    "
   ]
  },
  {
   "cell_type": "code",
   "execution_count": 4,
   "metadata": {},
   "outputs": [],
   "source": [
    "class Generator(torch.nn.Module):\n",
    "    #Input: Integer sampled from U(0,1)\n",
    "    #Output goal = integer from N(0,1)\n",
    "    \n",
    "    def __init__(self):\n",
    "        super(Generator,self).__init__()\n",
    "        \n",
    "        \n",
    "        \n",
    "        self.hidden0 = nn.Sequential(\n",
    "            nn.Linear(1,64),\n",
    "            nn.LeakyReLU(0.1)\n",
    "        )\n",
    "        \n",
    "        self.hidden1 = nn.Sequential(\n",
    "            nn.Linear(64,1)\n",
    "        )\n",
    "    def forward(self,x):\n",
    "        x = self.hidden0(x)\n",
    "        x = self.hidden1(x)\n",
    "        return x\n",
    "    "
   ]
  },
  {
   "cell_type": "code",
   "execution_count": 5,
   "metadata": {},
   "outputs": [],
   "source": [
    "discriminator = Discriminator()\n",
    "generator = Generator()"
   ]
  },
  {
   "cell_type": "code",
   "execution_count": 57,
   "metadata": {},
   "outputs": [],
   "source": [
    "#U(0,1)\n",
    "u = torch.rand(10)\n",
    "\n",
    "#N(0,1)\n",
    "n = torch.randn(10)\n"
   ]
  },
  {
   "cell_type": "code",
   "execution_count": 66,
   "metadata": {},
   "outputs": [],
   "source": [
    "def noise(n):\n",
    "    # Returns data in dimensions Batch_size * dim\n",
    "    return torch.rand(n).view(BATCH_SIZE, 1)\n",
    "\n",
    "def real_data(n):\n",
    "    # Returns data in dimensions Batch_size * dim\n",
    "    return torch.randn(n).view(BATCH_SIZE, 1)"
   ]
  },
  {
   "cell_type": "code",
   "execution_count": 67,
   "metadata": {},
   "outputs": [],
   "source": [
    "optimiser_g = optim.Adam(generator.parameters(), lr)\n",
    "optimiser_d = optim.Adam(discriminator.parameters(), lr)"
   ]
  },
  {
   "cell_type": "code",
   "execution_count": 68,
   "metadata": {},
   "outputs": [],
   "source": [
    "def update_discriminator(real_data, fake_data):\n",
    "    \n",
    "    loss = torch.nn.BCELoss()\n",
    "    \n",
    "    real_targets = torch.ones(BATCH_SIZE)\n",
    "    fake_targets = torch.zeros(BATCH_SIZE)\n",
    "    \n",
    "    targets = torch.cat((real_targets,fake_targets))\n",
    "    \n",
    "    \n",
    "    outs = torch.cat((discriminator(real_data) ,discriminator(fake_data)))\n",
    "    print(outs)\n",
    "    print(targets)\n",
    "    output = loss(outs,targets)\n",
    "    \n",
    "    output.backward()\n",
    "    \n",
    "    optimiser_g.step()\n",
    "    \n",
    "    "
   ]
  },
  {
   "cell_type": "code",
   "execution_count": 69,
   "metadata": {},
   "outputs": [
    {
     "name": "stdout",
     "output_type": "stream",
     "text": [
      "tensor([[0.4421],\n",
      "        [0.5020],\n",
      "        [0.4520],\n",
      "        [0.4367],\n",
      "        [0.5136],\n",
      "        [0.4952],\n",
      "        [0.4231],\n",
      "        [0.3998],\n",
      "        [0.4418],\n",
      "        [0.4571],\n",
      "        [0.4441],\n",
      "        [0.4640],\n",
      "        [0.4426],\n",
      "        [0.4453],\n",
      "        [0.4455],\n",
      "        [0.4414],\n",
      "        [0.4640],\n",
      "        [0.4438],\n",
      "        [0.4786],\n",
      "        [0.4739]], grad_fn=<CatBackward>)\n",
      "tensor([1., 1., 1., 1., 1., 1., 1., 1., 1., 1., 0., 0., 0., 0., 0., 0., 0., 0.,\n",
      "        0., 0.])\n"
     ]
    }
   ],
   "source": [
    "update_discriminator(real_data(BATCH_SIZE), noise(BATCH_SIZE))"
   ]
  },
  {
   "cell_type": "code",
   "execution_count": null,
   "metadata": {},
   "outputs": [],
   "source": []
  }
 ],
 "metadata": {
  "kernelspec": {
   "display_name": "Python 3",
   "language": "python",
   "name": "python3"
  },
  "language_info": {
   "codemirror_mode": {
    "name": "ipython",
    "version": 3
   },
   "file_extension": ".py",
   "mimetype": "text/x-python",
   "name": "python",
   "nbconvert_exporter": "python",
   "pygments_lexer": "ipython3",
   "version": "3.7.6"
  }
 },
 "nbformat": 4,
 "nbformat_minor": 4
}

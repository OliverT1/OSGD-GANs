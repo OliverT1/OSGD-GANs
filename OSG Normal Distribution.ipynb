{
 "cells": [
  {
   "cell_type": "markdown",
   "metadata": {},
   "source": [
    "# OSG GAN : Learning The Normal Distribution "
   ]
  },
  {
   "cell_type": "markdown",
   "metadata": {},
   "source": [
    "We learn to map uniform noise to a normal distribution with specified parameters using a Generative Adversarial Network\n"
   ]
  },
  {
   "cell_type": "code",
   "execution_count": 1,
   "metadata": {},
   "outputs": [],
   "source": [
    "import torch\n",
    "from torch import nn, optim\n",
    "from torch.autograd.variable import Variable\n",
    "from torch.distributions.normal import Normal\n",
    "import numpy\n",
    "\n",
    "import seaborn as sns # To plot graphs"
   ]
  },
  {
   "cell_type": "markdown",
   "metadata": {},
   "source": [
    "# Setup"
   ]
  },
  {
   "cell_type": "code",
   "execution_count": 2,
   "metadata": {},
   "outputs": [],
   "source": [
    "#define learningrate and parameters of distribution we want to approximate\n",
    "lr = 0.001\n",
    "mu = 5.0\n",
    "sigma = 1.0"
   ]
  },
  {
   "cell_type": "code",
   "execution_count": 3,
   "metadata": {},
   "outputs": [],
   "source": [
    "g_input_size = 256 #generator input size\n",
    "g_out = 256  #generator output size\n",
    "d_input_size = g_out #output og g goes to d\n",
    "batch_size = 50"
   ]
  },
  {
   "cell_type": "markdown",
   "metadata": {},
   "source": [
    "# Dicriminator Network"
   ]
  },
  {
   "cell_type": "code",
   "execution_count": 4,
   "metadata": {},
   "outputs": [],
   "source": [
    "class Discriminator(torch.nn.Module):\n",
    "    #Input : vector of size d_input_size\n",
    "    #Output : Probability(from Normal Distribution)\n",
    "    def __init__(self,d_input_size):\n",
    "        super(Discriminator,self).__init__()\n",
    "        \n",
    "        # 4 linear layers with relu and dropout\n",
    "        self.input = nn.Sequential(\n",
    "            nn.Linear(d_input_size,64),\n",
    "            nn.LeakyReLU(0.2),\n",
    "            nn.Dropout(0.3)\n",
    "        )\n",
    "        \n",
    "        self.hidden1 = nn.Sequential(\n",
    "            nn.Linear(64,32),\n",
    "            nn.LeakyReLU(0.2),\n",
    "            nn.Dropout(0.3)\n",
    "        )\n",
    "        \n",
    "                \n",
    "        self.hidden2 = nn.Sequential(\n",
    "            nn.Linear(32,16),\n",
    "            nn.LeakyReLU(0.2),\n",
    "            nn.Dropout(0.3)\n",
    "        )\n",
    "        \n",
    "        self.out = nn.Sequential(\n",
    "            nn.Linear(16,1),\n",
    "            nn.Sigmoid()\n",
    "        )\n",
    "             \n",
    "    def forward(self,x):\n",
    "        x = self.input(x)\n",
    "        x = self.hidden1(x)\n",
    "        x = self.hidden2(x)\n",
    "        x = self.out(x)\n",
    "        return x\n",
    "    \n",
    "    "
   ]
  },
  {
   "cell_type": "markdown",
   "metadata": {},
   "source": [
    "# Generator Network"
   ]
  },
  {
   "cell_type": "code",
   "execution_count": 5,
   "metadata": {},
   "outputs": [],
   "source": [
    "class Generator(torch.nn.Module):\n",
    "    #Input:  sampled from U(0,1)\n",
    "    #Output gaol =  from N(0,1)\n",
    "    \n",
    "    \n",
    "    def __init__(self,g_input_size,g_out):\n",
    "        super(Generator,self).__init__()\n",
    "        \n",
    "        self.input = nn.Sequential(\n",
    "            nn.Linear(g_input_size,128),\n",
    "            nn.LeakyReLU(0.1),\n",
    "            nn.Dropout(0.3)\n",
    "        )\n",
    "        \n",
    "        self.hidden1 = nn.Sequential(\n",
    "            nn.Linear(128,64),\n",
    "            nn.LeakyReLU(0.1),\n",
    "            nn.Dropout(0.3)\n",
    "        )\n",
    "        \n",
    "        self.hidden2 = nn.Sequential(\n",
    "            nn.Linear(64,64),\n",
    "            nn.LeakyReLU(0.1),\n",
    "            nn.Dropout(0.3)\n",
    "        )\n",
    "        \n",
    "        self.out = nn.Sequential(\n",
    "            nn.Linear(64,g_out)\n",
    "        )\n",
    "        \n",
    "        \n",
    "    def forward(self,x):\n",
    "        x = self.input(x)\n",
    "        x = self.hidden1(x)\n",
    "        x = self.hidden2(x)\n",
    "        x = self.out(x)\n",
    "        return x\n",
    "    "
   ]
  },
  {
   "cell_type": "markdown",
   "metadata": {},
   "source": [
    "# Useful functions"
   ]
  },
  {
   "cell_type": "code",
   "execution_count": 6,
   "metadata": {},
   "outputs": [],
   "source": [
    "#generates m by n matrix of uniform noise\n",
    "def generate_noise(m,n):\n",
    "    return Variable(torch.rand(m,n))\n",
    "\n",
    "#generates m by n matrix of normal distribution with right parameters\n",
    "def generate_real_data(m,n):\n",
    "    dist = Normal( mu, sigma )\n",
    "    return Variable(dist.sample( (m, n) ))\n"
   ]
  },
  {
   "cell_type": "code",
   "execution_count": 7,
   "metadata": {},
   "outputs": [],
   "source": [
    "#targets\n",
    "def real_targs(m):\n",
    "    return Variable(torch.ones(m,1))\n",
    "\n",
    "def fake_targs(m):\n",
    "    return Variable(torch.zeros(m,1))"
   ]
  },
  {
   "cell_type": "markdown",
   "metadata": {},
   "source": [
    "# Update functions"
   ]
  },
  {
   "cell_type": "code",
   "execution_count": 8,
   "metadata": {},
   "outputs": [],
   "source": [
    "#initialise networks\n",
    "discriminator = Discriminator(d_input_size)\n",
    "generator = Generator(g_input_size,g_out)\n",
    "\n",
    "#define optimisers and loss\n",
    "optimiser_g = optim.Adam(generator.parameters(), 10*lr)\n",
    "optimiser_d = optim.Adam(discriminator.parameters(), lr)\n",
    "loss = torch.nn.BCELoss()"
   ]
  },
  {
   "cell_type": "markdown",
   "metadata": {},
   "source": [
    "Here we pass data through networks as matrices"
   ]
  },
  {
   "cell_type": "code",
   "execution_count": 9,
   "metadata": {},
   "outputs": [],
   "source": [
    "#this generates fake_data from the generator internally\n",
    "def update_discriminator(optimiser, real_data):\n",
    "    #reset gradient\n",
    "    optimiser.zero_grad()\n",
    "\n",
    "    #real targets, i.e ones\n",
    "    real_targets = real_targs(batch_size)\n",
    "    \n",
    "    #pass through discriminator (as matrix)\n",
    "    real_decision = discriminator(real_data)\n",
    "    #compute loss and gradient\n",
    "    real_outs = loss(real_decision,real_targets)\n",
    "    real_outs.backward()\n",
    "    \n",
    "    #generate fake_data\n",
    "    fake_data = generator(generate_noise(batch_size,g_input_size))\n",
    "    #fake targets (0's)\n",
    "    fake_targets = fake_targs(batch_size)\n",
    "    fake_decision = discriminator(fake_data)\n",
    "    #compute loss\n",
    "    fake_outs = loss(fake_decision,fake_targets)\n",
    "    fake_outs.backward()\n",
    "    \n",
    "    #take step from gradients\n",
    "    optimiser.step()\n",
    "    \n",
    "    return (real_outs,fake_outs)"
   ]
  },
  {
   "cell_type": "code",
   "execution_count": 10,
   "metadata": {},
   "outputs": [],
   "source": [
    "#generates fake data internally\n",
    "def update_generator(optimiser):\n",
    "    #reset gradient\n",
    "    optimiser.zero_grad()\n",
    "    \n",
    "    #generate new fake data from noise\n",
    "    fake_data = generator(generate_noise(batch_size,g_input_size))\n",
    "    \n",
    "    prediction = discriminator(fake_data)\n",
    "    error = loss(prediction,real_targs(batch_size))\n",
    "    error.backward()\n",
    "    optimiser.step()\n",
    "    \n",
    "    return error"
   ]
  },
  {
   "cell_type": "code",
   "execution_count": 11,
   "metadata": {},
   "outputs": [],
   "source": [
    "n_epoch = 10000"
   ]
  },
  {
   "cell_type": "code",
   "execution_count": 24,
   "metadata": {},
   "outputs": [
    {
     "name": "stdout",
     "output_type": "stream",
     "text": [
      "epoch: 0 out of 10000\n",
      "0.6865264773368835 0.6970989108085632\n",
      "0.6941934823989868\n",
      "\n",
      "epoch: 1000 out of 10000\n",
      "0.7370874285697937 0.6501592397689819\n",
      "0.7350486516952515\n",
      "\n",
      "epoch: 2000 out of 10000\n",
      "0.6937710642814636 0.6932350397109985\n",
      "0.6917651295661926\n",
      "\n",
      "epoch: 3000 out of 10000\n",
      "0.6954590678215027 0.6905832886695862\n",
      "0.7008688449859619\n",
      "\n",
      "epoch: 4000 out of 10000\n",
      "0.6827781200408936 0.7217331528663635\n",
      "0.6769384741783142\n",
      "\n",
      "epoch: 5000 out of 10000\n",
      "0.6896242499351501 0.690208375453949\n",
      "0.6973291635513306\n",
      "\n",
      "epoch: 6000 out of 10000\n",
      "0.6830329298973083 0.7020915746688843\n",
      "0.6852150559425354\n",
      "\n",
      "epoch: 7000 out of 10000\n",
      "0.6904959678649902 0.6968648433685303\n",
      "0.6979522705078125\n",
      "\n",
      "epoch: 8000 out of 10000\n",
      "0.549629271030426 0.9026762247085571\n",
      "0.6074129343032837\n",
      "\n",
      "epoch: 9000 out of 10000\n",
      "0.7273856997489929 0.6520810723304749\n",
      "0.7446629405021667\n",
      "\n"
     ]
    }
   ],
   "source": [
    "for epoch in range(n_epoch):\n",
    "    #generate real_data\n",
    "    real_data = generate_real_data(batch_size,d_input_size)\n",
    "    \n",
    "    #train discriminator\n",
    "    (real_error,fake_error) = update_discriminator(optimiser_d,real_data)\n",
    "    \n",
    "    #train generator \n",
    "\n",
    "    gen_error = update_generator(optimiser_g)\n",
    "    \n",
    "    if epoch % 1000 == 0:\n",
    "        print(\"epoch: \" +str(epoch)+\" out of \" + str(n_epoch))\n",
    "        print(float(real_error),float(fake_error))\n",
    "        print(float(gen_error))\n",
    "        print()\n",
    "        "
   ]
  },
  {
   "cell_type": "markdown",
   "metadata": {},
   "source": [
    "# Results"
   ]
  },
  {
   "cell_type": "code",
   "execution_count": 13,
   "metadata": {},
   "outputs": [],
   "source": [
    "def test_discriminator():\n",
    "    \n",
    "    count = 0\n",
    "    count2=0\n",
    "    \n",
    "    real_data = [torch.randn(d_input_size) for i in range(500)]\n",
    "    for i in range(500):\n",
    "        d = float(discriminator(real_data[i]))\n",
    "        if d >= 0.5:\n",
    "            count += 1\n",
    "\n",
    "            \n",
    "    fake_data = [generator(torch.rand(d_input_size)) for i in range(500)]\n",
    "    for i in range(500):\n",
    "        if float(discriminator(fake_data[i])) < 0.5:\n",
    "            count2 += 1\n",
    "\n",
    "    print(\"recognises real data \" + str(count/5) + \"% of the time\")\n",
    "    print(\"recognises fake data \" + str(count2/5) + \"% of the time\")\n",
    "    "
   ]
  },
  {
   "cell_type": "code",
   "execution_count": 14,
   "metadata": {},
   "outputs": [
    {
     "name": "stdout",
     "output_type": "stream",
     "text": [
      "recognises real data 0.2% of the time\n",
      "recognises fake data 27.0% of the time\n"
     ]
    }
   ],
   "source": [
    "test_discriminator()"
   ]
  },
  {
   "cell_type": "code",
   "execution_count": 15,
   "metadata": {},
   "outputs": [],
   "source": [
    "def test_generator():\n",
    "    count = 0\n",
    "    fake_data = [generator(torch.rand(g_input_size)) for i in range(500)]\n",
    "    for i in range(500):\n",
    "        g = float(discriminator(fake_data[i]))\n",
    "        if g > 0.5:\n",
    "            count+=1\n",
    "\n",
    "    print(\"fools the discriminator \" + str(count/5) + \"% of the time\")"
   ]
  },
  {
   "cell_type": "code",
   "execution_count": 16,
   "metadata": {},
   "outputs": [
    {
     "name": "stdout",
     "output_type": "stream",
     "text": [
      "fools the discriminator 65.4% of the time\n"
     ]
    }
   ],
   "source": [
    "test_generator()"
   ]
  },
  {
   "cell_type": "code",
   "execution_count": 17,
   "metadata": {},
   "outputs": [],
   "source": [
    "def show():\n",
    "    x = generator(torch.rand(g_input_size)).detach().numpy()\n",
    "    print(numpy.average(x))\n",
    "    sns.distplot(x) # Produces a pdf estimate for the generator's values"
   ]
  },
  {
   "cell_type": "code",
   "execution_count": 31,
   "metadata": {},
   "outputs": [
    {
     "name": "stdout",
     "output_type": "stream",
     "text": [
      "5.081173\n"
     ]
    },
    {
     "data": {
      "image/png": "[encoded data removed]",
      "text/plain": [
       "<Figure size 432x288 with 1 Axes>"
      ]
     },
     "metadata": {
      "needs_background": "light"
     },
     "output_type": "display_data"
    }
   ],
   "source": [
    "show()"
   ]
  },
  {
   "cell_type": "code",
   "execution_count": 30,
   "metadata": {},
   "outputs": [
    {
     "name": "stdout",
     "output_type": "stream",
     "text": [
      "5.0990005\n"
     ]
    },
    {
     "data": {
      "image/png": "[encoded data removed]",
      "text/plain": [
       "<Figure size 432x288 with 1 Axes>"
      ]
     },
     "metadata": {
      "needs_background": "light"
     },
     "output_type": "display_data"
    }
   ],
   "source": [
    "show()"
   ]
  },
  {
   "cell_type": "code",
   "execution_count": 20,
   "metadata": {},
   "outputs": [],
   "source": [
    "def target():\n",
    "    x = generate_real_data(g_out,1)\n",
    "    sns.distplot(x)\n",
    "    "
   ]
  },
  {
   "cell_type": "code",
   "execution_count": 26,
   "metadata": {},
   "outputs": [
    {
     "data": {
      "image/png": "[encoded data removed]",
      "text/plain": [
       "<Figure size 432x288 with 1 Axes>"
      ]
     },
     "metadata": {
      "needs_background": "light"
     },
     "output_type": "display_data"
    }
   ],
   "source": [
    "target()"
   ]
  },
  {
   "cell_type": "code",
   "execution_count": null,
   "metadata": {},
   "outputs": [],
   "source": []
  }
 ],
 "metadata": {
  "kernelspec": {
   "display_name": "Python 3",
   "language": "python",
   "name": "python3"
  },
  "language_info": {
   "codemirror_mode": {
    "name": "ipython",
    "version": 3
   },
   "file_extension": ".py",
   "mimetype": "text/x-python",
   "name": "python",
   "nbconvert_exporter": "python",
   "pygments_lexer": "ipython3",
   "version": "3.7.6"
  }
 },
 "nbformat": 4,
 "nbformat_minor": 4
}

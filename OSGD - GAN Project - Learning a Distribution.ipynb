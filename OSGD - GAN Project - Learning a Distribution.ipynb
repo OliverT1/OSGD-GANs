{
 "cells": [
  {
   "cell_type": "markdown",
   "metadata": {},
   "source": [
    "# OSGD GAN Project - Learining a Distribution\n",
    "In this notebook we aim to make a GAN that learns and can produce realistic samples from a normal distribution.\n",
    "\n",
    "We provide the model with a training set of samples from the normal distribution that we want the model to learn, and after a training period we hope that the generator element of the model can produce a sample indistinguishable from those in the training set.\n",
    "\n",
    "### Contents\n",
    "1. Setup\n",
    "2. Discriminator Network\n",
    "3. Genarator Network\n",
    "4. Misc Functions\n",
    "5. Training Function For The Discriminator\n",
    "6. Training Function For The Generator\n",
    "7. Main Training Function\n",
    "8. Training & Testing\n",
    "9. Comments / To Do"
   ]
  },
  {
   "cell_type": "markdown",
   "metadata": {},
   "source": [
    "## 1. Setup"
   ]
  },
  {
   "cell_type": "code",
   "execution_count": 1,
   "metadata": {},
   "outputs": [],
   "source": [
    "import torch\n",
    "from torch import nn, optim\n",
    "from torch.autograd.variable import Variable\n",
    "\n",
    "import math \n",
    "import seaborn as sns # To plot graphs"
   ]
  },
  {
   "cell_type": "code",
   "execution_count": 2,
   "metadata": {},
   "outputs": [],
   "source": [
    "# Constants - Used throughout\n",
    "BATCH_SIZE = 50 # Training Batch Size\n",
    "N_EPOCHS = 1000\n",
    "LR = 0.0002 # Learning Rate"
   ]
  },
  {
   "cell_type": "code",
   "execution_count": 3,
   "metadata": {},
   "outputs": [],
   "source": [
    "# Ground truth data\n",
    "data = torch.randn(2000) # Some N(0,1) random numbers, used as source data"
   ]
  },
  {
   "cell_type": "markdown",
   "metadata": {},
   "source": [
    "## 2. Discriminator Network"
   ]
  },
  {
   "cell_type": "code",
   "execution_count": 4,
   "metadata": {},
   "outputs": [],
   "source": [
    "class Discriminator(torch.nn.Module):\n",
    "    #Input : A real number\n",
    "    #Output : Probability input is from a normal distribution\n",
    "    \n",
    "    def __init__(self):\n",
    "        super(Discriminator,self).__init__()\n",
    "        \n",
    "        # Sets expected input and output size\n",
    "        input_size = 1\n",
    "        output_size = 1\n",
    "        \n",
    "        # Neural network layers\n",
    "        self.hidden0 = nn.Sequential( \n",
    "            nn.Linear(input_size, 16),\n",
    "            nn.LeakyReLU(0.2),\n",
    "            nn.Dropout(0.3)\n",
    "        )\n",
    "        self.hidden1 = nn.Sequential(\n",
    "            nn.Linear(16, 8),\n",
    "            nn.LeakyReLU(0.2),\n",
    "            nn.Dropout(0.3)\n",
    "        )\n",
    "        self.hidden2 = nn.Sequential(\n",
    "            nn.Linear(8, 4),\n",
    "            nn.LeakyReLU(0.2),\n",
    "            nn.Dropout(0.3)\n",
    "        )\n",
    "        self.out = nn.Sequential(\n",
    "            torch.nn.Linear(4, output_size),\n",
    "            torch.nn.Sigmoid() # Sigmoid activation layer, so value out is in (0,1) representing a probability\n",
    "        )\n",
    "        \n",
    "    def forward(self,x):\n",
    "        x = self.hidden0(x)\n",
    "        x = self.hidden1(x)\n",
    "        x = self.hidden2(x)\n",
    "        x = self.out(x)\n",
    "        return x"
   ]
  },
  {
   "cell_type": "markdown",
   "metadata": {},
   "source": [
    "## 3. Genarator Network"
   ]
  },
  {
   "cell_type": "code",
   "execution_count": 5,
   "metadata": {},
   "outputs": [],
   "source": [
    "class Generator(torch.nn.Module):\n",
    "    #Input: Noise sampled from U(0,1)\n",
    "    #Output: Hopefully someting from the normal distribution that we're trying to learn\n",
    "    \n",
    "    def __init__(self):\n",
    "        super(Generator,self).__init__()\n",
    "        \n",
    "        # Sets expected input and output size\n",
    "        input_size = 1\n",
    "        output_size = 1\n",
    "        \n",
    "        # Neural network layers\n",
    "        self.hidden0 = nn.Sequential(\n",
    "            nn.Linear(input_size,16),\n",
    "            nn.LeakyReLU(0.1)\n",
    "        )\n",
    "        self.hidden1 = nn.Sequential(\n",
    "            nn.Linear(16,16),\n",
    "            nn.LeakyReLU(0.1)\n",
    "        )\n",
    "        self.hidden2 = nn.Sequential(\n",
    "            nn.Linear(16,8),\n",
    "            nn.LeakyReLU(0.1)\n",
    "        )\n",
    "        self.out = nn.Sequential(\n",
    "            nn.Linear(8,output_size)\n",
    "            # Note: Don't want an activiation function here, as would mess with output, or do we??\n",
    "        )\n",
    "        \n",
    "    def forward(self,x):\n",
    "        x = self.hidden0(x)\n",
    "        x = self.hidden1(x)\n",
    "        x = self.hidden2(x)\n",
    "        x = self.out(x)\n",
    "        return x"
   ]
  },
  {
   "cell_type": "markdown",
   "metadata": {},
   "source": [
    "## 4. Misc Functions"
   ]
  },
  {
   "cell_type": "code",
   "execution_count": 6,
   "metadata": {},
   "outputs": [],
   "source": [
    "discriminator = Discriminator()\n",
    "generator = Generator()"
   ]
  },
  {
   "cell_type": "code",
   "execution_count": 7,
   "metadata": {},
   "outputs": [],
   "source": [
    "def noise(n):\n",
    "    # Input: An integer n, the number of samples to make\n",
    "    # Output: A tensor of length n, of random values\n",
    "\n",
    "    return Variable(torch.randn(n)).view(n,1)"
   ]
  },
  {
   "cell_type": "code",
   "execution_count": 8,
   "metadata": {},
   "outputs": [],
   "source": [
    "def ones_target(n):\n",
    "    # Input: An integer n\n",
    "    # Output: Tensor of 1's length n\n",
    "    \n",
    "    return Variable(torch.ones(n,1))"
   ]
  },
  {
   "cell_type": "code",
   "execution_count": 9,
   "metadata": {},
   "outputs": [],
   "source": [
    "def zeros_target(n):\n",
    "    # Input: An integer n\n",
    "    # Output: Tensor of 0's length n\n",
    "    \n",
    "    return Variable(torch.zeros(n,1))"
   ]
  },
  {
   "cell_type": "markdown",
   "metadata": {},
   "source": [
    "## 5. Training Function For The Discriminator"
   ]
  },
  {
   "cell_type": "code",
   "execution_count": 10,
   "metadata": {},
   "outputs": [],
   "source": [
    "# Specifies optimiser\n",
    "optimiser_d = optim.Adam(discriminator.parameters(), LR)\n",
    "\n",
    "def update_discriminator(generated_data,real_data):\n",
    "    # Input: generated_data (from generator), real_data (from data tensor)\n",
    "    # Output: Loss for discriminator\n",
    "    \n",
    "    optimiser_d.zero_grad() # Clears gradient\n",
    "    loss = nn.BCELoss()\n",
    "    N = real_data.size(0) # Number of data items\n",
    "    \n",
    "    if generated_data.size(0)!=N:\n",
    "        raise Exception('Need generated_data & real_data to be the same size!')\n",
    "    \n",
    "    # Apply discriminator to each element in real_data union generated_data\n",
    "    x = discriminator(torch.cat([real_data,generated_data]))\n",
    "    \n",
    "    # Create targets\n",
    "    y = torch.cat([ones_target(N),zeros_target(N)]) # 1's for real data, 0's for fake data\n",
    "    \n",
    "    # Calculate loss and backprop\n",
    "    error = loss(x,y)\n",
    "    error.backward()\n",
    "    \n",
    "    # Updates network\n",
    "    optimiser_d.step()\n",
    "    \n",
    "    # Return total error and predictions\n",
    "    return error.detach().numpy(),x.detach().numpy().flatten()"
   ]
  },
  {
   "cell_type": "markdown",
   "metadata": {},
   "source": [
    "## 6. Training Function For The Generator"
   ]
  },
  {
   "cell_type": "code",
   "execution_count": 11,
   "metadata": {},
   "outputs": [],
   "source": [
    "# Specifies optimizer\n",
    "optimiser_g = optim.Adam(generator.parameters(), LR)\n",
    "\n",
    "def update_generator(generated_data):\n",
    "    # Input: generated_data (from generator)\n",
    "    # Output: loss for generator\n",
    "    \n",
    "    optimiser_g.zero_grad() # Clears gradient\n",
    "    loss = nn.BCELoss()\n",
    "    N = generated_data.size(0) # Number of data items\n",
    "    \n",
    "    # Apply discriminator to each element in generated_data\n",
    "    x = discriminator(generated_data)\n",
    "    \n",
    "    # Create targets\n",
    "    y = ones_target(N) # Want target to be 1's, opposite of disciminator's aim\n",
    "    \n",
    "    # Calculates loss and backprop\n",
    "    error = loss(x,y) \n",
    "    error.backward()\n",
    "    \n",
    "    # Updates network\n",
    "    optimiser_g.step()\n",
    "    \n",
    "    # Return error\n",
    "    return error.detach().numpy()  "
   ]
  },
  {
   "cell_type": "markdown",
   "metadata": {},
   "source": [
    "## 7. Main Training Function"
   ]
  },
  {
   "cell_type": "code",
   "execution_count": 12,
   "metadata": {},
   "outputs": [],
   "source": [
    "def train():\n",
    "    # Trains the GAN\n",
    "    \n",
    "    for e in range(N_EPOCHS):\n",
    "        k = math.ceil(len(data)/BATCH_SIZE) # Number of loops to see all the real data\n",
    "        for f in range(k):\n",
    "\n",
    "            # Get minibatch of real data\n",
    "            start, end = f*BATCH_SIZE,(f+1)*BATCH_SIZE # Note: end may be larger than end data\n",
    "            real_data = data[start:end]\n",
    "            real_data = real_data.view(real_data.size(0), 1) # Sets correct view\n",
    "            \n",
    "            # Get minibatch of generated data\n",
    "            generated_data = generator(noise(real_data.size(0))).detach() # Detach so generator grad isn't affected\n",
    "            \n",
    "            # Optimise discriminator\n",
    "            d_error,d_pred = update_discriminator(generated_data,real_data)\n",
    "            \n",
    "        \n",
    "        # Optimise generator, with new batch of generated data\n",
    "        generated_data = generator(noise(BATCH_SIZE))\n",
    "        g_error = update_generator(generated_data)\n",
    "    \n",
    "        # Debugg/Progress output\n",
    "        if (e+1)%100==0:\n",
    "            print(\"Training \"+str((e+1)/N_EPOCHS*100)+\"% Complete:\")\n",
    "            print(\"\\t Generator Loss =     \"+str(g_error))\n",
    "            print(\"\\t Discriminator Loss = \"+str(d_error))\n",
    "            \n",
    "            print(\"\\t\\t pred on real data \"+str(d_pred[:5])) # Prints 5 predictions on real data (discrim wants this to be 1, we want 0.5)\n",
    "            print(\"\\t\\t pred on fake data \"+str(d_pred[-5:])) # Prints 5 predictions on fake data (discrim wants this to be 1, we want 0.5)"
   ]
  },
  {
   "cell_type": "markdown",
   "metadata": {},
   "source": [
    "## 8. Training & Testing"
   ]
  },
  {
   "cell_type": "code",
   "execution_count": 24,
   "metadata": {},
   "outputs": [
    {
     "name": "stdout",
     "output_type": "stream",
     "text": [
      "Training 10.0% Complete:\n",
      "\t Generator Loss =     0.68335366\n",
      "\t Discriminator Loss = 0.68925667\n",
      "\t\t pred on real data [0.4964919  0.48555413 0.50260574 0.46585935 0.516171  ]\n",
      "\t\t pred on fake data [0.49888003 0.4583487  0.5005512  0.49666062 0.47242773]\n",
      "Training 20.0% Complete:\n",
      "\t Generator Loss =     0.69259894\n",
      "\t Discriminator Loss = 0.68922126\n",
      "\t\t pred on real data [0.49078172 0.49602205 0.50605404 0.45182285 0.50865215]\n",
      "\t\t pred on fake data [0.4956945  0.48043975 0.49902546 0.51093626 0.50331765]\n",
      "Training 30.0% Complete:\n",
      "\t Generator Loss =     0.6924582\n",
      "\t Discriminator Loss = 0.6935122\n",
      "\t\t pred on real data [0.5091288  0.4966238  0.50332075 0.50740314 0.5084713 ]\n",
      "\t\t pred on fake data [0.49249902 0.5057772  0.49976194 0.50642145 0.49138936]\n",
      "Training 40.0% Complete:\n",
      "\t Generator Loss =     0.69481015\n",
      "\t Discriminator Loss = 0.6911272\n",
      "\t\t pred on real data [0.5073259  0.5007587  0.50313044 0.49974608 0.5070283 ]\n",
      "\t\t pred on fake data [0.50513726 0.50731385 0.50851405 0.49843213 0.5007048 ]\n",
      "Training 50.0% Complete:\n",
      "\t Generator Loss =     0.69540817\n",
      "\t Discriminator Loss = 0.6898114\n",
      "\t\t pred on real data [0.498178   0.4997138  0.50120515 0.49931455 0.49359027]\n",
      "\t\t pred on fake data [0.49575928 0.49215952 0.50084025 0.49777654 0.50308967]\n",
      "Training 60.0% Complete:\n",
      "\t Generator Loss =     0.6950014\n",
      "\t Discriminator Loss = 0.6934391\n",
      "\t\t pred on real data [0.5018026  0.5023647  0.5039178  0.49256423 0.49630308]\n",
      "\t\t pred on fake data [0.48691636 0.49736077 0.50462586 0.504912   0.489728  ]\n",
      "Training 70.0% Complete:\n",
      "\t Generator Loss =     0.6928412\n",
      "\t Discriminator Loss = 0.69175386\n",
      "\t\t pred on real data [0.50460327 0.50563604 0.49365708 0.4941023  0.50341034]\n",
      "\t\t pred on fake data [0.50513005 0.5003557  0.5010407  0.50332075 0.490112  ]\n",
      "Training 80.0% Complete:\n",
      "\t Generator Loss =     0.69239926\n",
      "\t Discriminator Loss = 0.6940394\n",
      "\t\t pred on real data [0.50229186 0.5023846  0.5011793  0.49625048 0.50175434]\n",
      "\t\t pred on fake data [0.50450397 0.4996066  0.5006724  0.4979748  0.50400674]\n",
      "Training 90.0% Complete:\n",
      "\t Generator Loss =     0.6926619\n",
      "\t Discriminator Loss = 0.6928125\n",
      "\t\t pred on real data [0.5049867 0.5022572 0.5016637 0.502741  0.5020042]\n",
      "\t\t pred on fake data [0.4995188  0.50268364 0.4969645  0.50084645 0.4979221 ]\n",
      "Training 100.0% Complete:\n",
      "\t Generator Loss =     0.69329\n",
      "\t Discriminator Loss = 0.6932614\n",
      "\t\t pred on real data [0.5004518  0.49787387 0.5002415  0.501547   0.4997305 ]\n",
      "\t\t pred on fake data [0.50001323 0.5015526  0.50089675 0.49821538 0.49843284]\n"
     ]
    }
   ],
   "source": [
    "train()"
   ]
  },
  {
   "cell_type": "code",
   "execution_count": 14,
   "metadata": {},
   "outputs": [],
   "source": [
    "def test():\n",
    "    x = generator(noise(500)).detach().numpy()\n",
    "    sns.distplot(x) # Produces a pdf estimate for the generator's values"
   ]
  },
  {
   "cell_type": "code",
   "execution_count": 43,
   "metadata": {},
   "outputs": [
    {
     "data": {
      "image/png": "[encoded data removed]",
      "text/plain": [
       "<Figure size 432x288 with 1 Axes>"
      ]
     },
     "metadata": {
      "needs_background": "light"
     },
     "output_type": "display_data"
    }
   ],
   "source": [
    "test() # Plots a density estimate for the distribution produced by the generator"
   ]
  },
  {
   "cell_type": "code",
   "execution_count": 16,
   "metadata": {},
   "outputs": [
    {
     "data": {
      "text/plain": [
       "<matplotlib.axes._subplots.AxesSubplot at 0x1a8d7458088>"
      ]
     },
     "execution_count": 16,
     "metadata": {},
     "output_type": "execute_result"
    },
    {
     "data": {
      "image/png": "[encoded data removed]",
      "text/plain": [
       "<Figure size 432x288 with 1 Axes>"
      ]
     },
     "metadata": {
      "needs_background": "light"
     },
     "output_type": "display_data"
    }
   ],
   "source": [
    "sns.distplot(data) # Plots the distribution for the real/source data"
   ]
  },
  {
   "cell_type": "code",
   "execution_count": 17,
   "metadata": {},
   "outputs": [
    {
     "name": "stdout",
     "output_type": "stream",
     "text": [
      "tensor([[ 0.4609],\n",
      "        [ 0.2612],\n",
      "        [-0.0318],\n",
      "        [ 0.4680],\n",
      "        [ 1.8987],\n",
      "        [ 0.0178],\n",
      "        [-0.2042],\n",
      "        [ 1.3654],\n",
      "        [-1.4013],\n",
      "        [-0.0932]])\n"
     ]
    }
   ],
   "source": [
    "print(generator(noise(10)).detach()) # An idea of the number the generator produces"
   ]
  },
  {
   "cell_type": "markdown",
   "metadata": {},
   "source": [
    "## 9. Comments / To Do"
   ]
  },
  {
   "cell_type": "markdown",
   "metadata": {},
   "source": [
    "1. Mess around with N_EPOCHS and Batch size, auto detect when network converges??\n",
    "2. Mess around with different sized layers in the nn's\n",
    "3. Still not sure about activation function for generator\n",
    "4. Fix all that then wrap up nicely in a GAN object\n",
    "5. Maybe find a way to animate the training process"
   ]
  }
 ],
 "metadata": {
  "kernelspec": {
   "display_name": "Python 3",
   "language": "python",
   "name": "python3"
  },
  "language_info": {
   "codemirror_mode": {
    "name": "ipython",
    "version": 3
   },
   "file_extension": ".py",
   "mimetype": "text/x-python",
   "name": "python",
   "nbconvert_exporter": "python",
   "pygments_lexer": "ipython3",
   "version": "3.7.4"
  }
 },
 "nbformat": 4,
 "nbformat_minor": 2
}

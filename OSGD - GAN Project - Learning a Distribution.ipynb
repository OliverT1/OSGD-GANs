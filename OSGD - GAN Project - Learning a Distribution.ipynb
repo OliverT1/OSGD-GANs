{
 "cells": [
  {
   "cell_type": "markdown",
   "metadata": {},
   "source": [
    "# OSGD GAN Project - Learining a Distribution\n",
    "In this notebook we aim to make a GAN that learns and can produce realistic samples from a normal distribution.\n",
    "\n",
    "We provide the model with a training set of samples from the normal distribution that we want the model to learn, and after a training period we hope that the generator element of the model can produce a sample indistinguishable from those in the training set.\n",
    "\n",
    "### Contents\n",
    "1. Setup\n",
    "2. Discriminator Network\n",
    "3. Genarator Network\n",
    "4. Misc Functions\n",
    "5. Training Function For The Discriminator\n",
    "6. Training Function For The Generator\n",
    "7. Main Training Function\n",
    "8. Training & Testing\n",
    "9. Comments / To Do"
   ]
  },
  {
   "cell_type": "markdown",
   "metadata": {},
   "source": [
    "## 1. Setup"
   ]
  },
  {
   "cell_type": "code",
   "execution_count": 1,
   "metadata": {},
   "outputs": [],
   "source": [
    "import torch\n",
    "from torch import nn, optim\n",
    "from torch.autograd.variable import Variable\n",
    "import numpy as np\n",
    "from matplotlib import pyplot as plt\n",
    "import math \n",
    "import seaborn as sns # To plot graphs"
   ]
  },
  {
   "cell_type": "code",
   "execution_count": 2,
   "metadata": {},
   "outputs": [],
   "source": [
    "# Constants - Used throughout\n",
    "BATCH_SIZE = 600 # Training Batch Size\n",
    "N_EPOCHS = 512\n",
    "LR = 0.0002 # Learning Rate"
   ]
  },
  {
   "cell_type": "code",
   "execution_count": 3,
   "metadata": {},
   "outputs": [],
   "source": [
    "# Ground truth data\n",
    "data = torch.randn(2000) # Some N(0,1) random numbers, used as source data"
   ]
  },
  {
   "cell_type": "markdown",
   "metadata": {},
   "source": [
    "## 2. Discriminator Network"
   ]
  },
  {
   "cell_type": "code",
   "execution_count": 4,
   "metadata": {},
   "outputs": [],
   "source": [
    "class Discriminator(torch.nn.Module):\n",
    "    #Input : A real number\n",
    "    #Output : Probability input is from a normal distribution\n",
    "    \n",
    "    def __init__(self):\n",
    "        super(Discriminator,self).__init__()\n",
    "        \n",
    "        # Sets expected input and output size\n",
    "        input_size = 1\n",
    "        output_size = 1\n",
    "        \n",
    "        # Neural network layers\n",
    "        self.hidden0 = nn.Sequential( \n",
    "            nn.Linear(input_size, 64),\n",
    "            nn.LeakyReLU(0.2),\n",
    "            nn.Dropout(0.3)\n",
    "        )\n",
    "        self.hidden1 = nn.Sequential(\n",
    "            nn.Linear(64, 64),\n",
    "            nn.LeakyReLU(0.2),\n",
    "            nn.Dropout(0.3)\n",
    "        )\n",
    "        self.hidden2 = nn.Sequential(\n",
    "            nn.Linear(64, 64),\n",
    "            nn.LeakyReLU(0.2),\n",
    "            nn.Dropout(0.3)\n",
    "        )\n",
    "        self.out = nn.Sequential(\n",
    "            torch.nn.Linear(64, output_size),\n",
    "            torch.nn.Sigmoid() # Sigmoid activation layer, so value out is in (0,1) representing a probability\n",
    "        )\n",
    "        \n",
    "    def forward(self,x):\n",
    "        x = self.hidden0(x)\n",
    "        x = self.hidden1(x)\n",
    "        x = self.hidden2(x)\n",
    "        x = self.out(x)\n",
    "        return x"
   ]
  },
  {
   "cell_type": "markdown",
   "metadata": {},
   "source": [
    "## 3. Genarator Network"
   ]
  },
  {
   "cell_type": "code",
   "execution_count": 5,
   "metadata": {},
   "outputs": [],
   "source": [
    "class Generator(torch.nn.Module):\n",
    "    #Input: Noise sampled from U(0,1)\n",
    "    #Output: Hopefully someting from the normal distribution that we're trying to learn\n",
    "    \n",
    "    def __init__(self):\n",
    "        super(Generator,self).__init__()\n",
    "        \n",
    "        # Sets expected input and output size\n",
    "        input_size = 1\n",
    "        output_size = 1\n",
    "        \n",
    "        # Neural network layers\n",
    "        self.hidden0 = nn.Sequential(\n",
    "            nn.Linear(input_size,16),\n",
    "            nn.LeakyReLU(0.1)\n",
    "        )\n",
    "        self.hidden1 = nn.Sequential(\n",
    "            nn.Linear(16,16),\n",
    "            nn.LeakyReLU(0.1)\n",
    "        )\n",
    "        self.hidden2 = nn.Sequential(\n",
    "            nn.Linear(16,16),\n",
    "            nn.LeakyReLU(0.1)\n",
    "        )\n",
    "        self.out = nn.Sequential(\n",
    "            nn.Linear(16,output_size)\n",
    "            # Note: Don't want an activiation function here, as would mess with output, or do we??\n",
    "        )\n",
    "        \n",
    "    def forward(self,x):\n",
    "        x = self.hidden0(x)\n",
    "        x = self.hidden1(x)\n",
    "        x = self.hidden2(x)\n",
    "        x = self.out(x)\n",
    "        return x"
   ]
  },
  {
   "cell_type": "markdown",
   "metadata": {},
   "source": [
    "## 4. Misc Functions"
   ]
  },
  {
   "cell_type": "code",
   "execution_count": 6,
   "metadata": {},
   "outputs": [],
   "source": [
    "discriminator = Discriminator()\n",
    "generator = Generator()"
   ]
  },
  {
   "cell_type": "code",
   "execution_count": 7,
   "metadata": {},
   "outputs": [],
   "source": [
    "def noise(n):\n",
    "    # Input: An integer n, the number of samples to make\n",
    "    # Output: A tensor of length n, of random values\n",
    "\n",
    "    return Variable(torch.rand(n)).view(n,1)"
   ]
  },
  {
   "cell_type": "code",
   "execution_count": 8,
   "metadata": {},
   "outputs": [],
   "source": [
    "def ones_target(n):\n",
    "    # Input: An integer n\n",
    "    # Output: Tensor of 1's length n\n",
    "    \n",
    "    return Variable(torch.ones(n,1))"
   ]
  },
  {
   "cell_type": "code",
   "execution_count": 9,
   "metadata": {},
   "outputs": [],
   "source": [
    "def zeros_target(n):\n",
    "    # Input: An integer n\n",
    "    # Output: Tensor of 0's length n\n",
    "    \n",
    "    return Variable(torch.zeros(n,1))"
   ]
  },
  {
   "cell_type": "markdown",
   "metadata": {},
   "source": [
    "## 5. Training Function For The Discriminator"
   ]
  },
  {
   "cell_type": "code",
   "execution_count": 10,
   "metadata": {},
   "outputs": [],
   "source": [
    "# Specifies optimiser\n",
    "optimiser_d = optim.Adam(discriminator.parameters(), LR)\n",
    "\n",
    "def update_discriminator(generated_data,real_data):\n",
    "    # Input: generated_data (from generator), real_data (from data tensor)\n",
    "    # Output: Loss for discriminator\n",
    "    \n",
    "    optimiser_d.zero_grad() # Clears gradient\n",
    "    loss = nn.BCELoss()\n",
    "    N = real_data.size(0) # Number of data items\n",
    "    \n",
    "    if generated_data.size(0)!=N:\n",
    "        raise Exception('Need generated_data & real_data to be the same size!')\n",
    "    \n",
    "    # Apply discriminator to each element in real_data union generated_data\n",
    "    x = discriminator(torch.cat([real_data,generated_data]))\n",
    "    \n",
    "    # Create targets\n",
    "    y = torch.cat([ones_target(N),zeros_target(N)]) # 1's for real data, 0's for fake data\n",
    "    \n",
    "    # Calculate loss and backprop\n",
    "    error = loss(x,y)\n",
    "    error.backward()\n",
    "    \n",
    "    # Updates network\n",
    "    optimiser_d.step()\n",
    "    \n",
    "    # Return total error and predictions\n",
    "    return error.detach().numpy(),x.detach().numpy().flatten()"
   ]
  },
  {
   "cell_type": "markdown",
   "metadata": {},
   "source": [
    "## 6. Training Function For The Generator"
   ]
  },
  {
   "cell_type": "code",
   "execution_count": 11,
   "metadata": {},
   "outputs": [],
   "source": [
    "# Specifies optimizer\n",
    "optimiser_g = optim.Adam(generator.parameters(), LR)\n",
    "\n",
    "def update_generator(generated_data):\n",
    "    # Input: generated_data (from generator)\n",
    "    # Output: loss for generator\n",
    "    \n",
    "    optimiser_g.zero_grad() # Clears gradient\n",
    "    loss = nn.BCELoss()\n",
    "    N = generated_data.size(0) # Number of data items\n",
    "    \n",
    "    # Apply discriminator to each element in generated_data\n",
    "    x = discriminator(generated_data)\n",
    "    \n",
    "    # Create targets\n",
    "    y = ones_target(N) # Want target to be 1's, opposite of disciminator's aim\n",
    "    \n",
    "    # Calculates loss and backprop\n",
    "    error = loss(x,y) \n",
    "    error.backward()\n",
    "    \n",
    "    # Updates network\n",
    "    optimiser_g.step()\n",
    "    \n",
    "    # Return error\n",
    "    return error.detach().numpy()  "
   ]
  },
  {
   "cell_type": "markdown",
   "metadata": {},
   "source": [
    "## 7. Main Training Function"
   ]
  },
  {
   "cell_type": "code",
   "execution_count": 12,
   "metadata": {},
   "outputs": [],
   "source": [
    "def train():\n",
    "    # Trains the GAN\n",
    "    \n",
    "    for e in range(N_EPOCHS):\n",
    "        k = math.ceil(len(data)/BATCH_SIZE) # Number of loops to see all the real data\n",
    "        for f in range(k):\n",
    "\n",
    "            # Get minibatch of real data\n",
    "            start, end = f*BATCH_SIZE,(f+1)*BATCH_SIZE # Note: end may be larger than end data\n",
    "            real_data = data[start:end]\n",
    "            real_data = real_data.view(real_data.size(0), 1) # Sets correct view\n",
    "            \n",
    "            # Get minibatch of generated data\n",
    "            generated_data = generator(noise(real_data.size(0))).detach() # Detach so generator grad isn't affected\n",
    "            \n",
    "            # Optimise discriminator\n",
    "            d_error,d_pred = update_discriminator(generated_data,real_data)\n",
    "            \n",
    "        \n",
    "        # Optimise generator, with new batch of generated data\n",
    "        generated_data = generator(noise(BATCH_SIZE))\n",
    "        g_error = update_generator(generated_data)\n",
    "    \n",
    "        # Debugg/Progress output\n",
    "        if (e+1)%100==0:\n",
    "            print(\"Training \"+str((e+1)/N_EPOCHS*100)+\"% Complete:\")\n",
    "            print(\"\\t Generator Loss =     \"+str(g_error))\n",
    "            print(\"\\t Discriminator Loss = \"+str(d_error))\n",
    "            \n",
    "            print(\"\\t\\t pred on real data \"+str(d_pred[:5])) # Prints 5 predictions on real data (discrim wants this to be 1, we want 0.5)\n",
    "            print(\"\\t\\t pred on fake data \"+str(d_pred[-5:])) # Prints 5 predictions on fake data (discrim wants this to be 1, we want 0.5)"
   ]
  },
  {
   "cell_type": "markdown",
   "metadata": {},
   "source": [
    "## 8. Training & Testing"
   ]
  },
  {
   "cell_type": "code",
   "execution_count": 13,
   "metadata": {},
   "outputs": [
    {
     "name": "stdout",
     "output_type": "stream",
     "text": [
      "Training 19.53125% Complete:\n",
      "\t Generator Loss =     1.7840787\n",
      "\t Discriminator Loss = 0.29799715\n",
      "\t\t pred on real data [0.8057839  0.9999864  0.9999858  0.99999976 0.35522625]\n",
      "\t\t pred on fake data [0.30647433 0.09695385 0.26601842 0.36558926 0.29122487]\n",
      "Training 39.0625% Complete:\n",
      "\t Generator Loss =     1.5695382\n",
      "\t Discriminator Loss = 0.3559179\n",
      "\t\t pred on real data [0.23970588 0.9999924  1.         1.         0.28776386]\n",
      "\t\t pred on fake data [0.19971333 0.6113413  0.13177359 0.15359004 0.13099213]\n",
      "Training 58.59375% Complete:\n",
      "\t Generator Loss =     1.2692674\n",
      "\t Discriminator Loss = 0.44421637\n",
      "\t\t pred on real data [0.23870718 0.9976059  1.         0.9999999  0.3221602 ]\n",
      "\t\t pred on fake data [0.3190573  0.4126488  0.2789382  0.15995184 0.20354518]\n",
      "Training 78.125% Complete:\n",
      "\t Generator Loss =     1.0355678\n",
      "\t Discriminator Loss = 0.5232231\n",
      "\t\t pred on real data [0.36951694 0.9973924  0.9999753  1.         0.41925684]\n",
      "\t\t pred on fake data [0.36605537 0.44800368 0.3603427  0.26410282 0.33164802]\n",
      "Training 97.65625% Complete:\n",
      "\t Generator Loss =     0.9067108\n",
      "\t Discriminator Loss = 0.5940517\n",
      "\t\t pred on real data [0.5084593  0.9976018  1.         0.99997115 0.4120554 ]\n",
      "\t\t pred on fake data [0.5116293  0.39777327 0.41476476 0.36677244 0.4138713 ]\n"
     ]
    }
   ],
   "source": [
    "train()"
   ]
  },
  {
   "cell_type": "code",
   "execution_count": 22,
   "metadata": {},
   "outputs": [],
   "source": [
    "def test():\n",
    "    x = generator(noise(1000)).detach().numpy()\n",
    "    sns.distplot(x) # Produces a pdf estimate for the generator's values"
   ]
  },
  {
   "cell_type": "code",
   "execution_count": 23,
   "metadata": {},
   "outputs": [
    {
     "data": {
      "image/png": "[encoded data removed]",
      "text/plain": [
       "<Figure size 432x288 with 1 Axes>"
      ]
     },
     "metadata": {
      "needs_background": "light"
     },
     "output_type": "display_data"
    }
   ],
   "source": [
    "test() # Plots a density estimate for the distribution produced by the generator"
   ]
  },
  {
   "cell_type": "code",
   "execution_count": 31,
   "metadata": {},
   "outputs": [
    {
     "data": {
      "text/plain": [
       "<matplotlib.axes._subplots.AxesSubplot at 0x1a1fdb9a90>"
      ]
     },
     "execution_count": 31,
     "metadata": {},
     "output_type": "execute_result"
    },
    {
     "data": {
      "image/png": "[encoded data removed]",
      "text/plain": [
       "<Figure size 432x288 with 1 Axes>"
      ]
     },
     "metadata": {
      "needs_background": "light"
     },
     "output_type": "display_data"
    }
   ],
   "source": [
    "# PLot KDE on top of each other for comparison\n",
    "sns.kdeplot(generator(noise(1000)).detach().numpy().flatten(), color='red', alpha=0.6, label='GAN', shade=True)\n",
    "sns.kdeplot(data.numpy().flatten(), color='blue', alpha=0.2, label='Real', shade=True)"
   ]
  },
  {
   "cell_type": "code",
   "execution_count": 32,
   "metadata": {},
   "outputs": [
    {
     "data": {
      "text/plain": [
       "<matplotlib.axes._subplots.AxesSubplot at 0x1a1feb8e50>"
      ]
     },
     "execution_count": 32,
     "metadata": {},
     "output_type": "execute_result"
    },
    {
     "data": {
      "image/png": "[encoded data removed]",
      "text/plain": [
       "<Figure size 432x288 with 1 Axes>"
      ]
     },
     "metadata": {
      "needs_background": "light"
     },
     "output_type": "display_data"
    }
   ],
   "source": [
    "sns.distplot(data) # Plots the distribution for the real/source data"
   ]
  },
  {
   "cell_type": "code",
   "execution_count": 33,
   "metadata": {},
   "outputs": [
    {
     "name": "stdout",
     "output_type": "stream",
     "text": [
      "tensor([[ 0.7466],\n",
      "        [ 0.5399],\n",
      "        [-0.9419],\n",
      "        [-1.1846],\n",
      "        [-0.2824],\n",
      "        [ 0.0446],\n",
      "        [ 0.5790],\n",
      "        [-1.4217],\n",
      "        [ 0.4569],\n",
      "        [-1.0452]])\n"
     ]
    }
   ],
   "source": [
    "print(generator(noise(10)).detach()) # An idea of the number the generator produces"
   ]
  },
  {
   "cell_type": "code",
   "execution_count": 34,
   "metadata": {},
   "outputs": [
    {
     "data": {
      "text/plain": [
       "(-2, 2)"
      ]
     },
     "execution_count": 34,
     "metadata": {},
     "output_type": "execute_result"
    },
    {
     "data": {
      "image/png": "[encoded data removed]",
      "text/plain": [
       "<Figure size 432x288 with 1 Axes>"
      ]
     },
     "metadata": {
      "needs_background": "light"
     },
     "output_type": "display_data"
    }
   ],
   "source": [
    "# Visualising the mapping of latent space to sample space\n",
    "x = torch.linspace(0,1,steps=100).view(-1,1)\n",
    "y = generator(x).detach().numpy()\n",
    "x = x.detach().numpy()\n",
    "plt.scatter(x, y, linewidth=0.5, facecolor='None', edgecolor='blue')\n",
    "plt.xlabel(\"Latent space (z)\")\n",
    "plt.ylabel(\"Sample space (x)\")\n",
    "plt.xlim(0, 1)\n",
    "plt.ylim(-2,2)"
   ]
  },
  {
   "cell_type": "markdown",
   "metadata": {},
   "source": [
    "## 9. Comments / To Do"
   ]
  },
  {
   "cell_type": "markdown",
   "metadata": {},
   "source": [
    "1. Mess around with N_EPOCHS and Batch size, auto detect when network converges??\n",
    "2. Mess around with different sized layers in the nn's\n",
    "3. Still not sure about activation function for generator\n",
    "4. Fix all that then wrap up nicely in a GAN object\n",
    "5. Maybe find a way to animate the training process"
   ]
  }
 ],
 "metadata": {
  "kernelspec": {
   "display_name": "Python 3",
   "language": "python",
   "name": "python3"
  },
  "language_info": {
   "codemirror_mode": {
    "name": "ipython",
    "version": 3
   },
   "file_extension": ".py",
   "mimetype": "text/x-python",
   "name": "python",
   "nbconvert_exporter": "python",
   "pygments_lexer": "ipython3",
   "version": "3.7.6"
  }
 },
 "nbformat": 4,
 "nbformat_minor": 4
}

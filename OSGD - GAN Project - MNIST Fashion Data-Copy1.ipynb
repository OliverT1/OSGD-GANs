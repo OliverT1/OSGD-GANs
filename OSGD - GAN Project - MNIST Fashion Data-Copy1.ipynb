{
 "cells": [
  {
   "cell_type": "markdown",
   "metadata": {},
   "source": [
    "# OSGD - GAN Project - MNIST Fashion\n",
    "\n",
    "\n",
    "## Contents\n",
    "1. Setup\n",
    "2. Loading The Data\n",
    "3. Defining the GAN Class\n",
    "4. Instantiating a GAN\n",
    "5. Training and Testing"
   ]
  },
  {
   "cell_type": "markdown",
   "metadata": {},
   "source": [
    "## 1. Setup"
   ]
  },
  {
   "cell_type": "code",
   "execution_count": 1,
   "metadata": {},
   "outputs": [],
   "source": [
    "import torch\n",
    "import torchvision\n",
    "import torchvision.transforms as transforms\n",
    "\n",
    "import numpy as np\n",
    "import matplotlib.pyplot as plt\n",
    "\n",
    "from torch import nn, optim\n",
    "from torch.autograd.variable import Variable\n",
    "\n",
    "import math \n",
    "import seaborn as sns # To plot graphs\n",
    "import pandas as pd"
   ]
  },
  {
   "cell_type": "markdown",
   "metadata": {},
   "source": [
    "## 2. Loading The Data"
   ]
  },
  {
   "cell_type": "code",
   "execution_count": 2,
   "metadata": {},
   "outputs": [],
   "source": [
    "train_set = torchvision.datasets.FashionMNIST(        # Gets the train_set from FashionMNIST\n",
    "    root = './data/FashionMNIST',\n",
    "    train = True,\n",
    "    download = True,\n",
    "    transform = transforms.Compose([\n",
    "        transforms.ToTensor()\n",
    "    ])\n",
    ")"
   ]
  },
  {
   "cell_type": "code",
   "execution_count": 3,
   "metadata": {},
   "outputs": [],
   "source": [
    "# Helper function to display images\n",
    "def show_images(images_arry,num_images_to_show,title):\n",
    "    # Imput: images_arry, an array of tensors to display as images; num_images_to_show, integer representing num images to show\n",
    "    # Output: prints images as output\n",
    "    \n",
    "    n = np.min([len(images_arry),num_images_to_show]) # Number of images to display\n",
    "    fig, ax = plt.subplots(1,n) # Makes an array of subplot objects \n",
    "    fig.suptitle(title)\n",
    "    \n",
    "    for index in range(n):\n",
    "        ax[index].imshow(images_arry[index].squeeze(), cmap='gray_r'); # Investigate the cmap\n",
    "        ax[index].axis('off')  # clear x-axis and y-axis"
   ]
  },
  {
   "cell_type": "raw",
   "metadata": {},
   "source": [
    "Let's see what this data looks like"
   ]
  },
  {
   "cell_type": "code",
   "execution_count": 4,
   "metadata": {},
   "outputs": [],
   "source": [
    "temp_data_loader = torch.utils.data.DataLoader(train_set, batch_size=5, shuffle=True)\n",
    "temp_dataiter = iter(temp_data_loader)\n",
    "images,labels = temp_dataiter.next()"
   ]
  },
  {
   "cell_type": "code",
   "execution_count": 5,
   "metadata": {
    "scrolled": true
   },
   "outputs": [
    {
     "name": "stdout",
     "output_type": "stream",
     "text": [
      "torch.Size([1, 28, 28])\n"
     ]
    },
    {
     "data": {
      "image/png": "[encoded data removed]",
      "text/plain": [
       "<Figure size 432x288 with 5 Axes>"
      ]
     },
     "metadata": {
      "needs_background": "light"
     },
     "output_type": "display_data"
    }
   ],
   "source": [
    "show_images(images,5,'Fashion_MNIST')\n",
    "print(images[0].size())"
   ]
  },
  {
   "cell_type": "raw",
   "metadata": {},
   "source": [
    "We can use a train loader to batch our images. IMPORTANT: images are 1 x 28 x 28 tensors with vals in [0,1]"
   ]
  },
  {
   "cell_type": "markdown",
   "metadata": {},
   "source": [
    "## 3. Defining the GAN Class"
   ]
  },
  {
   "cell_type": "raw",
   "metadata": {},
   "source": [
    "We use the GAN code from the previous notebook, but chainging the training function to only take in one minibatch. This then allows us to use the DATALOADER (in Pytorch) to efficiently load data in batches."
   ]
  },
  {
   "cell_type": "code",
   "execution_count": 6,
   "metadata": {},
   "outputs": [],
   "source": [
    "class NeuralNetwork(torch.nn.Module):\n",
    "    def __init__(self,ModuleList):\n",
    "        # Input: a torch.nn.ModuleList object, specifying nn layers\n",
    "        # Output: Instanciates a nn object with the correct layers and activiation functions\n",
    "        \n",
    "        super(NeuralNetwork,self).__init__()\n",
    "        self.layers = ModuleList # Sets network layers\n",
    "        \n",
    "    def forward(self,x):\n",
    "        # Input: a tensor x, with size that agrees with the network\n",
    "        # Output: a tensor, the network evaluated on x\n",
    "        \n",
    "        for l in self.layers:\n",
    "            x = l(x)\n",
    "        return x"
   ]
  },
  {
   "cell_type": "code",
   "execution_count": 7,
   "metadata": {},
   "outputs": [],
   "source": [
    "def ones_target(n):\n",
    "    # Input: An integer n\n",
    "    # Output: Tensor of 1's size nx1\n",
    "    \n",
    "    return Variable(torch.ones(n,1))\n",
    "    \n",
    "def zeros_target(n):\n",
    "    # Input: An integer n\n",
    "    # Output: Tensor of 0's size nx1\n",
    "    \n",
    "    return Variable(torch.zeros(n,1))"
   ]
  },
  {
   "cell_type": "code",
   "execution_count": 8,
   "metadata": {},
   "outputs": [],
   "source": [
    "class GAN():\n",
    "    def __init__(self,d_ModuleList,g_ModuleList):\n",
    "        # Input: d_ModuleList,g_ModuleList are torch.nn.ModuleLists\n",
    "        # Output: Instance of GAN class \n",
    "        \n",
    "        # Instantiate the discriminator & generator\n",
    "        self.discriminator = NeuralNetwork(d_ModuleList)\n",
    "        self.generator = NeuralNetwork(g_ModuleList)\n",
    "        \n",
    "        self.dim = d_ModuleList[0][0].in_features # Number of inputs into discriminator = dimention of data\n",
    "        self.latent_dim = g_ModuleList[0][0].in_features # Number of inputs into generator = dimention of latent space\n",
    "    \n",
    "    def update_discriminator(self,real_data,generated_data):\n",
    "        # Input: real_data (minibatch from real data set) ,generated_data (minibatch made by generator)\n",
    "        # Output: discriminator's loss and mean predictions for real and generated data\n",
    "        \n",
    "        # Initial setup/clearing of gradients\n",
    "        self.d_optimiser.zero_grad()\n",
    "        loss = nn.BCELoss()\n",
    "        N,M = real_data.size(0),generated_data.size(0)\n",
    "        \n",
    "        # Apply discriminator to data entered (in order real then fake)\n",
    "        x = self.discriminator(torch.cat([real_data,generated_data]))\n",
    "        \n",
    "        # Create target labels (in order real then fake)\n",
    "        y = torch.cat([ones_target(N),zeros_target(M)])\n",
    "        \n",
    "        # Calculate loss and backprop\n",
    "        error = loss(x,y)\n",
    "        error.backward()\n",
    "        \n",
    "        # Update discriminator network\n",
    "        self.d_optimiser.step()\n",
    "        \n",
    "        # Return error and mean predictions\n",
    "        return error.detach().numpy(), torch.mean(x[:N].detach()).numpy(),torch.mean(x[-M:].detach()).numpy()\n",
    "        \n",
    "    def update_generator(self,generated_data):\n",
    "        # Input: generated_data (minibatch made by generator)\n",
    "        # Output: generators' loss\n",
    "        \n",
    "        # Initial setup/clearing of gradients\n",
    "        self.g_optimiser.zero_grad()\n",
    "        loss = nn.BCELoss()\n",
    "        M = generated_data.size(0)\n",
    "        \n",
    "        # Apply discriminator to data entered\n",
    "        x = self.discriminator(generated_data)\n",
    "        \n",
    "        # Create target labels\n",
    "        y = ones_target(M) # Want target to be 1's, opposite of disciminator's aim\n",
    "        \n",
    "        # Calculate loss and backprop\n",
    "        error = loss(x,y)\n",
    "        error.backward()\n",
    "        \n",
    "        # Update generator network\n",
    "        self.g_optimiser.step()\n",
    "        \n",
    "        # Return error\n",
    "        return error.detach().numpy() \n",
    "    \n",
    "    def batch_train(self,data_batch,d_learning_rate,g_learning_rate):\n",
    "        # Input: data_batch (in a tensor size 1 by n),d_learning_rate/g_learning_rate, learning rates for each nn\n",
    "        # Output: returns progress info, updates discriminator and generator networks\n",
    "        \n",
    "        # Sets optimisers\n",
    "        self.d_optimiser = optim.Adam(self.discriminator.parameters(), d_learning_rate)\n",
    "        self.g_optimiser = optim.Adam(self.generator.parameters(), g_learning_rate)\n",
    "        \n",
    "        k = 1 # Number of steps to apply to the discriminator, In original paper this variable is assigned to 1\n",
    "        n = data_batch.size(0) # Number of data items in  batch\n",
    "        \n",
    "\n",
    "        for i in range(k):\n",
    "            # Get batch of real data\n",
    "            real_data = data_batch.view(-1,self.dim) # Shapes data into a collumn vector, if not already in correct view\n",
    "                \n",
    "            # Get batch of fake data from generator\n",
    "            generated_data = self.generator(self.noise(n).detach()) # Same size as real_data, detatch so generator gradient not affected\n",
    "            \n",
    "            # Optimise discriminator\n",
    "            d_error,avg_real_pred,avg_fake_pred = self.update_discriminator(real_data,generated_data)\n",
    "            \n",
    "            \n",
    "        # Optimise generator, with new batch of generated data\n",
    "        generated_data = self.generator(self.noise(n)) # Need new data here as discriminator has been trained on the 'old' generated_data\n",
    "        g_error = self.update_generator(generated_data)\n",
    "        \n",
    "        return g_error,d_error,avg_real_pred,avg_fake_pred\n",
    "            \n",
    "    def noise(self,n):\n",
    "    # Input: An integer n, the number of samples to make\n",
    "    # Output: A tensor of size nxdims of random values\n",
    "\n",
    "        return Variable(torch.randn(n,self.latent_dim))\n",
    "    \n",
    "    def generate(self,n):\n",
    "        # Input: n (number of values to geneerate)\n",
    "        # Output: n generated data items from the generator\n",
    "        \n",
    "        return self.generator(self.noise(n)).detach().numpy()"
   ]
  },
  {
   "cell_type": "markdown",
   "metadata": {},
   "source": [
    "## 4. Instantiating a GAN"
   ]
  },
  {
   "cell_type": "code",
   "execution_count": 9,
   "metadata": {},
   "outputs": [],
   "source": [
    "fashion_GAN = GAN(nn.ModuleList([\n",
    "                    nn.Sequential( \n",
    "                        nn.Linear(784, 1024),\n",
    "                        nn.LeakyReLU(0.2),\n",
    "                        nn.Dropout(0.3)\n",
    "                    ),\n",
    "                    nn.Sequential(\n",
    "                        nn.Linear(1024, 512),\n",
    "                        nn.LeakyReLU(0.2),\n",
    "                        nn.Dropout(0.3)\n",
    "                    ),\n",
    "                    nn.Sequential(\n",
    "                        torch.nn.Linear(512, 1),\n",
    "                        torch.nn.Sigmoid() # Sigmoid activation layer, so value out is in (0,1) representing a probability\n",
    "                    )]),\n",
    "                nn.ModuleList([\n",
    "                    nn.Sequential(\n",
    "                        nn.Linear(512,1024),\n",
    "                        nn.LeakyReLU(0.1)\n",
    "                    ),\n",
    "                    nn.Sequential(\n",
    "                        nn.Linear(1024,2048),\n",
    "                        nn.LeakyReLU(0.1)\n",
    "                    ),\n",
    "                    nn.Sequential(\n",
    "                        nn.Linear(2048,784),\n",
    "                        torch.nn.Sigmoid()\n",
    "                    )])\n",
    "                )"
   ]
  },
  {
   "cell_type": "code",
   "execution_count": 10,
   "metadata": {},
   "outputs": [],
   "source": [
    "data_loader = torch.utils.data.DataLoader(train_set, batch_size=512, shuffle=True)"
   ]
  },
  {
   "cell_type": "markdown",
   "metadata": {},
   "source": [
    "## 5. Training and Testing"
   ]
  },
  {
   "cell_type": "code",
   "execution_count": 11,
   "metadata": {
    "scrolled": true
   },
   "outputs": [
    {
     "name": "stdout",
     "output_type": "stream",
     "text": [
      "Training = 0 % Complete:\n",
      "\tEPOCH 0% Complete:\n",
      "\t\t Generator Loss =     0.69615847\n",
      "\t\t Discriminator Loss = 0.6881814\n",
      "\t\t\t avg prediction on real data = 0.5078553\n",
      "\t\t\t avg prediction on fake data = 0.5024685\n",
      "\tEPOCH 20% Complete:\n",
      "\t\t Generator Loss =     0.48863593\n",
      "\t\t Discriminator Loss = 0.82277197\n",
      "\t\t\t avg prediction on real data = 0.50761294\n",
      "\t\t\t avg prediction on fake data = 0.6193336\n",
      "\tEPOCH 40% Complete:\n",
      "\t\t Generator Loss =     0.50820285\n",
      "\t\t Discriminator Loss = 0.799598\n",
      "\t\t\t avg prediction on real data = 0.51550937\n",
      "\t\t\t avg prediction on fake data = 0.6075149\n",
      "\tEPOCH 60% Complete:\n",
      "\t\t Generator Loss =     0.5697359\n",
      "\t\t Discriminator Loss = 0.7573696\n",
      "\t\t\t avg prediction on real data = 0.5117664\n",
      "\t\t\t avg prediction on fake data = 0.5699336\n",
      "\tEPOCH 80% Complete:\n",
      "\t\t Generator Loss =     0.5645754\n",
      "\t\t Discriminator Loss = 0.7547589\n",
      "\t\t\t avg prediction on real data = 0.52001005\n",
      "\t\t\t avg prediction on fake data = 0.5744352\n",
      "Training = 2.0 % Complete:\n",
      "\tEPOCH 0% Complete:\n",
      "\t\t Generator Loss =     0.54974204\n",
      "\t\t Discriminator Loss = 0.76118904\n",
      "\t\t\t avg prediction on real data = 0.5220373\n",
      "\t\t\t avg prediction on fake data = 0.5814418\n",
      "\tEPOCH 20% Complete:\n",
      "\t\t Generator Loss =     0.5645572\n",
      "\t\t Discriminator Loss = 0.75496155\n",
      "\t\t\t avg prediction on real data = 0.5203931\n",
      "\t\t\t avg prediction on fake data = 0.57480985\n",
      "\tEPOCH 40% Complete:\n",
      "\t\t Generator Loss =     0.5739279\n",
      "\t\t Discriminator Loss = 0.74010956\n",
      "\t\t\t avg prediction on real data = 0.5293006\n",
      "\t\t\t avg prediction on fake data = 0.5694275\n",
      "\tEPOCH 60% Complete:\n",
      "\t\t Generator Loss =     0.5163699\n",
      "\t\t Discriminator Loss = 0.7840874\n",
      "\t\t\t avg prediction on real data = 0.52894926\n",
      "\t\t\t avg prediction on fake data = 0.6050403\n",
      "\tEPOCH 80% Complete:\n",
      "\t\t Generator Loss =     0.58573866\n",
      "\t\t Discriminator Loss = 0.73691136\n",
      "\t\t\t avg prediction on real data = 0.5219796\n",
      "\t\t\t avg prediction on fake data = 0.560565\n",
      "Training = 4.0 % Complete:\n",
      "\tEPOCH 0% Complete:\n",
      "\t\t Generator Loss =     0.58457464\n",
      "\t\t Discriminator Loss = 0.7386814\n",
      "\t\t\t avg prediction on real data = 0.5238547\n",
      "\t\t\t avg prediction on fake data = 0.56365216\n",
      "\tEPOCH 20% Complete:\n",
      "\t\t Generator Loss =     0.5688479\n",
      "\t\t Discriminator Loss = 0.74574465\n",
      "\t\t\t avg prediction on real data = 0.52618504\n",
      "\t\t\t avg prediction on fake data = 0.5715524\n",
      "\tEPOCH 40% Complete:\n",
      "\t\t Generator Loss =     0.61889136\n",
      "\t\t Discriminator Loss = 0.7175687\n",
      "\t\t\t avg prediction on real data = 0.5219048\n",
      "\t\t\t avg prediction on fake data = 0.5431613\n"
     ]
    },
    {
     "ename": "KeyboardInterrupt",
     "evalue": "",
     "output_type": "error",
     "traceback": [
      "\u001b[1;31m---------------------------------------------------------------------------\u001b[0m",
      "\u001b[1;31mKeyboardInterrupt\u001b[0m                         Traceback (most recent call last)",
      "\u001b[1;32m<ipython-input-11-1f88d1370c68>\u001b[0m in \u001b[0;36m<module>\u001b[1;34m\u001b[0m\n\u001b[0;32m     11\u001b[0m     \u001b[1;32mfor\u001b[0m \u001b[0mi\u001b[0m\u001b[1;33m,\u001b[0m \u001b[1;33m(\u001b[0m\u001b[0mimages\u001b[0m\u001b[1;33m,\u001b[0m\u001b[0mlabels\u001b[0m\u001b[1;33m)\u001b[0m \u001b[1;32min\u001b[0m \u001b[0menumerate\u001b[0m\u001b[1;33m(\u001b[0m\u001b[0mdata_loader\u001b[0m\u001b[1;33m)\u001b[0m\u001b[1;33m:\u001b[0m\u001b[1;33m\u001b[0m\u001b[1;33m\u001b[0m\u001b[0m\n\u001b[0;32m     12\u001b[0m         \u001b[0mimages\u001b[0m \u001b[1;33m=\u001b[0m \u001b[0mimages\u001b[0m\u001b[1;33m.\u001b[0m\u001b[0mreshape\u001b[0m\u001b[1;33m(\u001b[0m\u001b[0mimages\u001b[0m\u001b[1;33m.\u001b[0m\u001b[0msize\u001b[0m\u001b[1;33m(\u001b[0m\u001b[1;36m0\u001b[0m\u001b[1;33m)\u001b[0m\u001b[1;33m,\u001b[0m\u001b[1;36m28\u001b[0m\u001b[1;33m*\u001b[0m\u001b[1;36m28\u001b[0m\u001b[1;33m)\u001b[0m \u001b[1;31m# Flattens image to a vector\u001b[0m\u001b[1;33m\u001b[0m\u001b[1;33m\u001b[0m\u001b[0m\n\u001b[1;32m---> 13\u001b[1;33m         \u001b[0mg_error\u001b[0m\u001b[1;33m,\u001b[0m\u001b[0md_error\u001b[0m\u001b[1;33m,\u001b[0m\u001b[0mavg_real_pred\u001b[0m\u001b[1;33m,\u001b[0m\u001b[0mavg_fake_pred\u001b[0m \u001b[1;33m=\u001b[0m \u001b[0mfashion_GAN\u001b[0m\u001b[1;33m.\u001b[0m\u001b[0mbatch_train\u001b[0m\u001b[1;33m(\u001b[0m\u001b[0mimages\u001b[0m\u001b[1;33m,\u001b[0m\u001b[1;36m0.005\u001b[0m\u001b[1;33m*\u001b[0m\u001b[1;36m0.002\u001b[0m\u001b[1;33m,\u001b[0m\u001b[1;36m0.002\u001b[0m\u001b[1;33m)\u001b[0m \u001b[1;31m#d lr then g lr\u001b[0m\u001b[1;33m\u001b[0m\u001b[1;33m\u001b[0m\u001b[0m\n\u001b[0m\u001b[0;32m     14\u001b[0m \u001b[1;33m\u001b[0m\u001b[0m\n\u001b[0;32m     15\u001b[0m         \u001b[1;31m# EPOCH Progress info\u001b[0m\u001b[1;33m\u001b[0m\u001b[1;33m\u001b[0m\u001b[1;33m\u001b[0m\u001b[0m\n",
      "\u001b[1;32m<ipython-input-8-8a126cc653c4>\u001b[0m in \u001b[0;36mbatch_train\u001b[1;34m(self, data_batch, d_learning_rate, g_learning_rate)\u001b[0m\n\u001b[0;32m     81\u001b[0m \u001b[1;33m\u001b[0m\u001b[0m\n\u001b[0;32m     82\u001b[0m             \u001b[1;31m# Optimise discriminator\u001b[0m\u001b[1;33m\u001b[0m\u001b[1;33m\u001b[0m\u001b[1;33m\u001b[0m\u001b[0m\n\u001b[1;32m---> 83\u001b[1;33m             \u001b[0md_error\u001b[0m\u001b[1;33m,\u001b[0m\u001b[0mavg_real_pred\u001b[0m\u001b[1;33m,\u001b[0m\u001b[0mavg_fake_pred\u001b[0m \u001b[1;33m=\u001b[0m \u001b[0mself\u001b[0m\u001b[1;33m.\u001b[0m\u001b[0mupdate_discriminator\u001b[0m\u001b[1;33m(\u001b[0m\u001b[0mreal_data\u001b[0m\u001b[1;33m,\u001b[0m\u001b[0mgenerated_data\u001b[0m\u001b[1;33m)\u001b[0m\u001b[1;33m\u001b[0m\u001b[1;33m\u001b[0m\u001b[0m\n\u001b[0m\u001b[0;32m     84\u001b[0m \u001b[1;33m\u001b[0m\u001b[0m\n\u001b[0;32m     85\u001b[0m \u001b[1;33m\u001b[0m\u001b[0m\n",
      "\u001b[1;32m<ipython-input-8-8a126cc653c4>\u001b[0m in \u001b[0;36mupdate_discriminator\u001b[1;34m(self, real_data, generated_data)\u001b[0m\n\u001b[0;32m     28\u001b[0m         \u001b[1;31m# Calculate loss and backprop\u001b[0m\u001b[1;33m\u001b[0m\u001b[1;33m\u001b[0m\u001b[1;33m\u001b[0m\u001b[0m\n\u001b[0;32m     29\u001b[0m         \u001b[0merror\u001b[0m \u001b[1;33m=\u001b[0m \u001b[0mloss\u001b[0m\u001b[1;33m(\u001b[0m\u001b[0mx\u001b[0m\u001b[1;33m,\u001b[0m\u001b[0my\u001b[0m\u001b[1;33m)\u001b[0m\u001b[1;33m\u001b[0m\u001b[1;33m\u001b[0m\u001b[0m\n\u001b[1;32m---> 30\u001b[1;33m         \u001b[0merror\u001b[0m\u001b[1;33m.\u001b[0m\u001b[0mbackward\u001b[0m\u001b[1;33m(\u001b[0m\u001b[1;33m)\u001b[0m\u001b[1;33m\u001b[0m\u001b[1;33m\u001b[0m\u001b[0m\n\u001b[0m\u001b[0;32m     31\u001b[0m \u001b[1;33m\u001b[0m\u001b[0m\n\u001b[0;32m     32\u001b[0m         \u001b[1;31m# Update discriminator network\u001b[0m\u001b[1;33m\u001b[0m\u001b[1;33m\u001b[0m\u001b[1;33m\u001b[0m\u001b[0m\n",
      "\u001b[1;32m~\\Anaconda3\\lib\\site-packages\\torch\\tensor.py\u001b[0m in \u001b[0;36mbackward\u001b[1;34m(self, gradient, retain_graph, create_graph)\u001b[0m\n\u001b[0;32m    193\u001b[0m                 \u001b[0mproducts\u001b[0m\u001b[1;33m.\u001b[0m \u001b[0mDefaults\u001b[0m \u001b[0mto\u001b[0m\u001b[0;31m \u001b[0m\u001b[0;31m`\u001b[0m\u001b[0;31m`\u001b[0m\u001b[1;32mFalse\u001b[0m\u001b[0;31m`\u001b[0m\u001b[0;31m`\u001b[0m\u001b[1;33m.\u001b[0m\u001b[1;33m\u001b[0m\u001b[1;33m\u001b[0m\u001b[0m\n\u001b[0;32m    194\u001b[0m         \"\"\"\n\u001b[1;32m--> 195\u001b[1;33m         \u001b[0mtorch\u001b[0m\u001b[1;33m.\u001b[0m\u001b[0mautograd\u001b[0m\u001b[1;33m.\u001b[0m\u001b[0mbackward\u001b[0m\u001b[1;33m(\u001b[0m\u001b[0mself\u001b[0m\u001b[1;33m,\u001b[0m \u001b[0mgradient\u001b[0m\u001b[1;33m,\u001b[0m \u001b[0mretain_graph\u001b[0m\u001b[1;33m,\u001b[0m \u001b[0mcreate_graph\u001b[0m\u001b[1;33m)\u001b[0m\u001b[1;33m\u001b[0m\u001b[1;33m\u001b[0m\u001b[0m\n\u001b[0m\u001b[0;32m    196\u001b[0m \u001b[1;33m\u001b[0m\u001b[0m\n\u001b[0;32m    197\u001b[0m     \u001b[1;32mdef\u001b[0m \u001b[0mregister_hook\u001b[0m\u001b[1;33m(\u001b[0m\u001b[0mself\u001b[0m\u001b[1;33m,\u001b[0m \u001b[0mhook\u001b[0m\u001b[1;33m)\u001b[0m\u001b[1;33m:\u001b[0m\u001b[1;33m\u001b[0m\u001b[1;33m\u001b[0m\u001b[0m\n",
      "\u001b[1;32m~\\Anaconda3\\lib\\site-packages\\torch\\autograd\\__init__.py\u001b[0m in \u001b[0;36mbackward\u001b[1;34m(tensors, grad_tensors, retain_graph, create_graph, grad_variables)\u001b[0m\n\u001b[0;32m     97\u001b[0m     Variable._execution_engine.run_backward(\n\u001b[0;32m     98\u001b[0m         \u001b[0mtensors\u001b[0m\u001b[1;33m,\u001b[0m \u001b[0mgrad_tensors\u001b[0m\u001b[1;33m,\u001b[0m \u001b[0mretain_graph\u001b[0m\u001b[1;33m,\u001b[0m \u001b[0mcreate_graph\u001b[0m\u001b[1;33m,\u001b[0m\u001b[1;33m\u001b[0m\u001b[1;33m\u001b[0m\u001b[0m\n\u001b[1;32m---> 99\u001b[1;33m         allow_unreachable=True)  # allow_unreachable flag\n\u001b[0m\u001b[0;32m    100\u001b[0m \u001b[1;33m\u001b[0m\u001b[0m\n\u001b[0;32m    101\u001b[0m \u001b[1;33m\u001b[0m\u001b[0m\n",
      "\u001b[1;31mKeyboardInterrupt\u001b[0m: "
     ]
    },
    {
     "data": {
      "image/png": "[encoded data removed]",
      "text/plain": [
       "<Figure size 432x288 with 7 Axes>"
      ]
     },
     "metadata": {
      "needs_background": "light"
     },
     "output_type": "display_data"
    },
    {
     "data": {
      "image/png": "[encoded data removed]",
      "text/plain": [
       "<Figure size 432x288 with 7 Axes>"
      ]
     },
     "metadata": {
      "needs_background": "light"
     },
     "output_type": "display_data"
    },
    {
     "data": {
      "image/png": "[encoded data removed]",
      "text/plain": [
       "<Figure size 432x288 with 7 Axes>"
      ]
     },
     "metadata": {
      "needs_background": "light"
     },
     "output_type": "display_data"
    }
   ],
   "source": [
    "import time\n",
    "start = time.time()\n",
    "N_EPOCHS = 50\n",
    "\n",
    "# Log info with no training\n",
    "print(\"Training = \"+str(0)+\" % Complete:\")\n",
    "sample = torch.Tensor(fashion_GAN.generate(7)).reshape(7,28,28)\n",
    "show_images(sample,7,\"EPOCH \"+str(0))\n",
    "\n",
    "for e in range(1,N_EPOCHS+1):\n",
    "    for i, (images,labels) in enumerate(data_loader):\n",
    "        images = images.reshape(images.size(0),28*28) # Flattens image to a vector\n",
    "        g_error,d_error,avg_real_pred,avg_fake_pred = fashion_GAN.batch_train(images,0.005*0.002,0.002) #d lr then g lr\n",
    "\n",
    "        # EPOCH Progress info\n",
    "        epoch_progress = round(i*100/len(data_loader))\n",
    "        if (epoch_progress) % 20 == 0:\n",
    "            print(\"\\tEPOCH \"+str(epoch_progress)+\"% Complete:\")\n",
    "            print(\"\\t\\t Generator Loss =     \"+str(g_error))\n",
    "            print(\"\\t\\t Discriminator Loss = \"+str(d_error))\n",
    "            \n",
    "            print(\"\\t\\t\\t avg prediction on real data = \"+str(avg_real_pred)) # Prints avg predictions on real data (discrim wants this to be 1, we want 0.5)\n",
    "            print(\"\\t\\t\\t avg prediction on fake data = \"+str(avg_fake_pred)) # Prints avg predictions on fake data (discrim wants this to be 0, we want 0.5)\n",
    "    \n",
    "    # Overall Progress Info\n",
    "    print(\"Training = \"+str(100*e/N_EPOCHS)+\" % Complete:\")\n",
    "    sample = torch.Tensor(fashion_GAN.generate(7)).reshape(7,28,28)\n",
    "    show_images(sample,7,\"EPOCH \"+str(e))\n",
    "\n",
    "end = time.time()\n",
    "print('Total Training Time = ',(end - start)/60 + \" mins\")"
   ]
  },
  {
   "cell_type": "code",
   "execution_count": null,
   "metadata": {},
   "outputs": [],
   "source": [
    "# Prints 25 sample images produced by the GAN\n",
    "samples = torch.Tensor(fashion_GAN.generate(25)).reshape(25,28,28)\n",
    "\n",
    "fig, ax = plt.subplots(5,5) # Makes an array of subplot objects \n",
    "fig.suptitle('25 Generated Samples')\n",
    "\n",
    "for i, j in np.ndindex((5,5)):\n",
    "    ax[i][j].imshow(samples[5*i+j].squeeze(), cmap='gray_r'); # Investigate the cmap\n",
    "    ax[i][j].axis('off')"
   ]
  }
 ],
 "metadata": {
  "kernelspec": {
   "display_name": "Python 3",
   "language": "python",
   "name": "python3"
  },
  "language_info": {
   "codemirror_mode": {
    "name": "ipython",
    "version": 3
   },
   "file_extension": ".py",
   "mimetype": "text/x-python",
   "name": "python",
   "nbconvert_exporter": "python",
   "pygments_lexer": "ipython3",
   "version": "3.7.4"
  }
 },
 "nbformat": 4,
 "nbformat_minor": 2
}

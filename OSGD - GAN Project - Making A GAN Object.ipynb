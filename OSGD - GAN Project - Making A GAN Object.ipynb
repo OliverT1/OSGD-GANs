{
 "cells": [
  {
   "cell_type": "markdown",
   "metadata": {
    "colab_type": "text",
    "id": "wycS1cNjy_W-"
   },
   "source": [
    "# OSGD - GAN Project - Encapsulating a GAN Object\n",
    "\n",
    "### Contents\n",
    "1. Setup\n",
    "2. Neural Network Class\n",
    "4. Helper Functions\n",
    "4. GAN Class\n",
    "5. Learning a Normal Distribution\n",
    "6. Other Distributions"
   ]
  },
  {
   "cell_type": "markdown",
   "metadata": {
    "colab_type": "text",
    "id": "8mqEzYoey_XF"
   },
   "source": [
    "## 1. Setup"
   ]
  },
  {
   "cell_type": "code",
   "execution_count": 1,
   "metadata": {
    "colab": {},
    "colab_type": "code",
    "id": "ex9iLSCvy_XI"
   },
   "outputs": [],
   "source": [
    "import torch\n",
    "from torch import nn, optim\n",
    "from torch.autograd.variable import Variable\n",
    "\n",
    "import math \n",
    "import seaborn as sns # To plot graphs\n",
    "import matplotlib.pyplot as plt\n",
    "import pandas as pd"
   ]
  },
  {
   "cell_type": "markdown",
   "metadata": {
    "colab_type": "text",
    "id": "-gx88ZeIy_XS"
   },
   "source": [
    "## 2. Neural Network Class"
   ]
  },
  {
   "cell_type": "markdown",
   "metadata": {
    "colab_type": "text",
    "id": "ReWgeFhny_XU"
   },
   "source": [
    "Firstly, let's make it easy to make a nn. Let's write a class which allows us to make new nn's just by specifying the layers."
   ]
  },
  {
   "cell_type": "code",
   "execution_count": 2,
   "metadata": {
    "colab": {},
    "colab_type": "code",
    "id": "Ol9f24usy_XX"
   },
   "outputs": [],
   "source": [
    "class NeuralNetwork(torch.nn.Module):\n",
    "    def __init__(self,ModuleList):\n",
    "        # Input: a torch.nn.ModuleList object, specifying nn layers\n",
    "        # Output: Instanciates a nn object with the correct layers and activiation functions\n",
    "        \n",
    "        super(NeuralNetwork,self).__init__()\n",
    "        self.layers = ModuleList # Sets network layers\n",
    "        \n",
    "    def forward(self,x):\n",
    "        # Input: a tensor x, with size that agrees with the network\n",
    "        # Output: a tensor, the network evaluated on x\n",
    "        \n",
    "        for l in self.layers:\n",
    "            x = l(x)\n",
    "        return x"
   ]
  },
  {
   "cell_type": "markdown",
   "metadata": {
    "colab_type": "text",
    "id": "-3WK5Ywby_Xe"
   },
   "source": [
    "## 3. Helper Functions"
   ]
  },
  {
   "cell_type": "code",
   "execution_count": 3,
   "metadata": {
    "colab": {},
    "colab_type": "code",
    "id": "mL5mGmNfy_Xg"
   },
   "outputs": [],
   "source": [
    "def ones_target(n):\n",
    "    # Input: An integer n\n",
    "    # Output: Tensor of 1's size nx1\n",
    "    \n",
    "    return Variable(torch.ones(n,1))\n",
    "    \n",
    "def zeros_target(n):\n",
    "    # Input: An integer n\n",
    "    # Output: Tensor of 0's size nx1\n",
    "    \n",
    "    return Variable(torch.zeros(n,1))"
   ]
  },
  {
   "cell_type": "markdown",
   "metadata": {
    "colab_type": "text",
    "id": "mop9FFNVy_Xo"
   },
   "source": [
    "## 4. GAN Class"
   ]
  },
  {
   "cell_type": "markdown",
   "metadata": {
    "colab_type": "text",
    "id": "nsgbaMtjy_Xv"
   },
   "source": [
    "Next, let's take the code from the last notebook and wrap it up nicely in a GAN object"
   ]
  },
  {
   "cell_type": "code",
   "execution_count": 4,
   "metadata": {
    "colab": {},
    "colab_type": "code",
    "id": "OuaObBsMy_Xx"
   },
   "outputs": [],
   "source": [
    "class GAN():\n",
    "    def __init__(self,d_ModuleList,g_ModuleList):\n",
    "        # Input: d_ModuleList,g_ModuleList are torch.nn.ModuleLists\n",
    "        # Output: Instance of GAN class \n",
    "        \n",
    "        # Instantiate the discriminator & generator\n",
    "        self.discriminator = NeuralNetwork(d_ModuleList)\n",
    "        self.generator = NeuralNetwork(g_ModuleList)\n",
    "        \n",
    "        self.dim = d_ModuleList[0][0].in_features # Number of inputs into discriminator = dimention of data\n",
    "        \n",
    "        # Check layers in network are of the correct sizes\n",
    "        if g_ModuleList[0][0].in_features != self.dim:\n",
    "            raise Exception('The input layer for the discriminator and generator need to be of the same size')\n",
    "        if g_ModuleList[-1][-1].out_features != self.dim:\n",
    "            raise Exception('The output layer for the discriminator and input layer of the generator need to be of the same size')\n",
    "    \n",
    "    def update_discriminator(self,real_data,generated_data):\n",
    "        # Input: real_data (minibatch from real data set) ,generated_data (minibatch made by generator)\n",
    "        # Output: discriminator's loss and mean predictions for real and generated data\n",
    "        \n",
    "        # Initial setup/clearing of gradients\n",
    "        self.d_optimiser.zero_grad()\n",
    "        loss = nn.BCELoss()\n",
    "        N,M = real_data.size(0),generated_data.size(0)\n",
    "        \n",
    "        # Apply discriminator to data entered (in order real then fake)\n",
    "        x = self.discriminator(torch.cat([real_data,generated_data]))\n",
    "        \n",
    "        # Create target labels (in order real then fake)\n",
    "        y = torch.cat([ones_target(N),zeros_target(M)])\n",
    "        \n",
    "        # Calculate loss and backprop\n",
    "        error = loss(x,y)\n",
    "        error.backward()\n",
    "        \n",
    "        # Update discriminator network\n",
    "        self.d_optimiser.step()\n",
    "        \n",
    "        # Return error and mean predictions\n",
    "        return error.detach().numpy(), torch.mean(x[:N].detach()).numpy(),torch.mean(x[-M:].detach()).numpy()\n",
    "        \n",
    "    def update_generator(self,generated_data):\n",
    "        # Input: generated_data (minibatch made by generator)\n",
    "        # Output: generators' loss\n",
    "        \n",
    "        # Initial setup/clearing of gradients\n",
    "        self.g_optimiser.zero_grad()\n",
    "        loss = nn.BCELoss()\n",
    "        M = generated_data.size(0)\n",
    "        \n",
    "        # Apply discriminator to data entered\n",
    "        x = self.discriminator(generated_data)\n",
    "        \n",
    "        # Create target labels\n",
    "        y = ones_target(M) # Want target to be 1's, opposite of disciminator's aim\n",
    "        \n",
    "        # Calculate loss and backprop\n",
    "        error = loss(x,y)\n",
    "        error.backward()\n",
    "        \n",
    "        # Update generator network\n",
    "        self.g_optimiser.step()\n",
    "        \n",
    "        # Return error\n",
    "        return error.detach().numpy() \n",
    "    \n",
    "    def train(self,data,batch_size,n_EPOCHS,learning_rate):\n",
    "        # Input: data (in a tensor) ,batch_size,n_EPOCHS,learning_rate\n",
    "        # Output: prints progress info, updates discriminator and generator networks\n",
    "        \n",
    "        # Sets optimisers\n",
    "        self.d_optimiser = optim.Adam(self.discriminator.parameters(), learning_rate)\n",
    "        self.g_optimiser = optim.Adam(self.generator.parameters(), learning_rate)\n",
    "        \n",
    "        k = 2 # Number of steps to apply to the discriminator, In original paper this variable is assigned to 1\n",
    "        j = math.ceil(data.size(0)/batch_size) # Number of loops to see all the real data\n",
    "        \n",
    "        for e in range(1,n_EPOCHS+1):\n",
    "            for b in range(j):\n",
    "                for i in range(k):\n",
    "                    # Get batch of real data\n",
    "                    start,end = b*batch_size,(b+1)*batch_size #Note: end may be larger than len(data)\n",
    "                    real_data = data[start:end].view(-1,self.dim) # Shapes data into a collumn vector\n",
    "                \n",
    "                    # Get batch of fake data from generator\n",
    "                    generated_data = self.generator(self.noise(real_data.size(0))).detach() # Same size as real_data, detatch so generator gradient not affected\n",
    "            \n",
    "                    # Optimise discriminator\n",
    "                    d_error,avg_real_pred,avg_fake_pred = self.update_discriminator(real_data,generated_data)\n",
    "            \n",
    "            \n",
    "                # Optimise generator, with new batch of generated data\n",
    "                generated_data = self.generator(self.noise(batch_size)) # Need new data here as discriminator has been trained on the 'old' generated_data\n",
    "                g_error = self.update_generator(generated_data)\n",
    "            \n",
    "            # Progress info\n",
    "            if (e*100/n_EPOCHS) % 10 == 0:\n",
    "                print(\"Training \"+str(e*100/n_EPOCHS)+\"% Complete:\")\n",
    "                print(\"\\t Generator Loss =     \"+str(g_error))\n",
    "                print(\"\\t Discriminator Loss = \"+str(d_error))\n",
    "            \n",
    "                print(\"\\t\\t avg prediction on real data = \"+str(avg_real_pred)) # Prints avg predictions on real data (discrim wants this to be 1, we want 0.5)\n",
    "                print(\"\\t\\t avg prediction on fake data = \"+str(avg_fake_pred)) # Prints avg predictions on fake data (discrim wants this to be 0, we want 0.5)\n",
    "            \n",
    "    def noise(self,n):\n",
    "    # Input: An integer n, the number of samples to make\n",
    "    # Output: A tensor of size nxdims of random values\n",
    "\n",
    "        return Variable(torch.randn(n,self.dim))\n",
    "    \n",
    "    def generate(self,n):\n",
    "        # Input: n (number of values to geneerate)\n",
    "        # Output: n generated data items from the generator\n",
    "        \n",
    "        return self.generator(self.noise(n)).detach().numpy()"
   ]
  },
  {
   "cell_type": "markdown",
   "metadata": {
    "colab_type": "text",
    "id": "wbXQHYkLy_X3"
   },
   "source": [
    "## 5. Learning a Normal Distribution"
   ]
  },
  {
   "cell_type": "markdown",
   "metadata": {
    "colab_type": "text",
    "id": "t_N0MD5py_X6"
   },
   "source": [
    "This is all well and good, but does it actually work? Let's try recreate the GAN that learned a normal distribution from the last notebook."
   ]
  },
  {
   "cell_type": "code",
   "execution_count": 5,
   "metadata": {
    "colab": {},
    "colab_type": "code",
    "id": "Nt5ebF8Ay_X8"
   },
   "outputs": [],
   "source": [
    "d_normal_ModuleList = nn.ModuleList([\n",
    "        nn.Sequential( \n",
    "            nn.Linear(1, 8),\n",
    "            nn.LeakyReLU(0.2),\n",
    "            nn.Dropout(0.3)\n",
    "        ),\n",
    "        nn.Sequential(\n",
    "            nn.Linear(8, 8),\n",
    "            nn.LeakyReLU(0.2),\n",
    "            nn.Dropout(0.3)\n",
    "        ),\n",
    "        nn.Sequential(\n",
    "            torch.nn.Linear(8, 1),\n",
    "            torch.nn.Sigmoid() # Sigmoid activation layer, so value out is in (0,1) representing a probability\n",
    "        )\n",
    "])\n",
    "\n",
    "g_normal_ModuleList = nn.ModuleList([\n",
    "        nn.Sequential(\n",
    "            nn.Linear(1,8),\n",
    "            nn.LeakyReLU(0.1)\n",
    "        ),\n",
    "        nn.Sequential(\n",
    "            nn.Linear(8,8),\n",
    "            nn.LeakyReLU(0.1)\n",
    "        ),\n",
    "        nn.Sequential(\n",
    "            nn.Linear(8,1)\n",
    "            # Note: Don't want an activiation function here, as would mess with output, or do we??\n",
    "        )\n",
    "])"
   ]
  },
  {
   "cell_type": "code",
   "execution_count": 6,
   "metadata": {
    "colab": {},
    "colab_type": "code",
    "id": "ZnaS0Ocny_YA"
   },
   "outputs": [],
   "source": [
    "normal_data = torch.randn(2500) # Some N(0,1) random numbers, used as source data\n",
    "normal_gan = GAN(d_normal_ModuleList,g_normal_ModuleList)"
   ]
  },
  {
   "cell_type": "code",
   "execution_count": 7,
   "metadata": {
    "colab": {
     "base_uri": "https://localhost:8080/",
     "height": 857
    },
    "colab_type": "code",
    "id": "qwLv5zRFy_YF",
    "outputId": "58c8b74c-09c3-4f25-e518-56aed90eef1a"
   },
   "outputs": [
    {
     "name": "stdout",
     "output_type": "stream",
     "text": [
      "Training 10.0% Complete:\n",
      "\t Generator Loss =     1.0185696\n",
      "\t Discriminator Loss = 0.55451035\n",
      "\t\t avg prediction on real data = 0.58164006\n",
      "\t\t avg prediction on fake data = 0.3514047\n",
      "Training 20.0% Complete:\n",
      "\t Generator Loss =     0.8640204\n",
      "\t Discriminator Loss = 0.5912956\n",
      "\t\t avg prediction on real data = 0.570401\n",
      "\t\t avg prediction on fake data = 0.41457126\n",
      "Training 30.0% Complete:\n",
      "\t Generator Loss =     0.6369056\n",
      "\t Discriminator Loss = 0.7627184\n",
      "\t\t avg prediction on real data = 0.49478847\n",
      "\t\t avg prediction on fake data = 0.52650976\n",
      "Training 40.0% Complete:\n",
      "\t Generator Loss =     0.6859348\n",
      "\t Discriminator Loss = 0.6788974\n",
      "\t\t avg prediction on real data = 0.49848568\n",
      "\t\t avg prediction on fake data = 0.48017898\n",
      "Training 50.0% Complete:\n",
      "\t Generator Loss =     0.70482093\n",
      "\t Discriminator Loss = 0.7009921\n",
      "\t\t avg prediction on real data = 0.5022176\n",
      "\t\t avg prediction on fake data = 0.5068105\n",
      "Training 60.0% Complete:\n",
      "\t Generator Loss =     0.6933262\n",
      "\t Discriminator Loss = 0.6958027\n",
      "\t\t avg prediction on real data = 0.4994929\n",
      "\t\t avg prediction on fake data = 0.5018614\n",
      "Training 70.0% Complete:\n",
      "\t Generator Loss =     0.6929876\n",
      "\t Discriminator Loss = 0.69635165\n",
      "\t\t avg prediction on real data = 0.49805316\n",
      "\t\t avg prediction on fake data = 0.5008696\n",
      "Training 80.0% Complete:\n",
      "\t Generator Loss =     0.69008327\n",
      "\t Discriminator Loss = 0.69676954\n",
      "\t\t avg prediction on real data = 0.50005823\n",
      "\t\t avg prediction on fake data = 0.50346446\n",
      "Training 90.0% Complete:\n",
      "\t Generator Loss =     0.6964167\n",
      "\t Discriminator Loss = 0.6937785\n",
      "\t\t avg prediction on real data = 0.4995679\n",
      "\t\t avg prediction on fake data = 0.49999765\n",
      "Training 100.0% Complete:\n",
      "\t Generator Loss =     0.6924025\n",
      "\t Discriminator Loss = 0.6963839\n",
      "\t\t avg prediction on real data = 0.4988277\n",
      "\t\t avg prediction on fake data = 0.5019316\n"
     ]
    }
   ],
   "source": [
    "normal_gan.train(normal_data,50,250,0.0002)"
   ]
  },
  {
   "cell_type": "code",
   "execution_count": 8,
   "metadata": {
    "colab": {
     "base_uri": "https://localhost:8080/",
     "height": 265
    },
    "colab_type": "code",
    "id": "skl_xnd1y_YM",
    "outputId": "88023de3-5590-4ee9-9f99-44b63ed1dbf2"
   },
   "outputs": [
    {
     "data": {
      "image/png": "[encoded data removed]",
      "text/plain": [
       "<Figure size 432x288 with 1 Axes>"
      ]
     },
     "metadata": {
      "needs_background": "light"
     },
     "output_type": "display_data"
    }
   ],
   "source": [
    "sns.distplot(normal_gan.generate(1000),hist=False,label='fake')\n",
    "sns.distplot(normal_data,hist=False,label='real')\n",
    "plt.legend();"
   ]
  },
  {
   "cell_type": "markdown",
   "metadata": {
    "colab_type": "text",
    "id": "C_77c-Dky_YR"
   },
   "source": [
    "## 6. Other Distributions"
   ]
  },
  {
   "cell_type": "markdown",
   "metadata": {
    "colab_type": "text",
    "id": "IuMgDfNYy_YS"
   },
   "source": [
    "We can now make a new instance of the GAN object and train it on data from a different distribution"
   ]
  },
  {
   "cell_type": "code",
   "execution_count": 9,
   "metadata": {
    "colab": {},
    "colab_type": "code",
    "id": "sYzwi3O9y_YU"
   },
   "outputs": [],
   "source": [
    "import torch.distributions as dist\n",
    "exp = dist.Exponential(torch.tensor([6.0])) # Exponential distributed with rate = 6\n",
    "exp_data = exp.sample([2500]) # New data set"
   ]
  },
  {
   "cell_type": "code",
   "execution_count": 10,
   "metadata": {
    "colab": {},
    "colab_type": "code",
    "id": "xNaByKg-y_YY"
   },
   "outputs": [],
   "source": [
    "d_exp_ModuleList = nn.ModuleList([\n",
    "        nn.Sequential( \n",
    "            nn.Linear(1, 8),\n",
    "            nn.LeakyReLU(0.2),\n",
    "            nn.Dropout(0.3)\n",
    "        ),\n",
    "        nn.Sequential(\n",
    "            nn.Linear(8, 8),\n",
    "            nn.LeakyReLU(0.2),\n",
    "            nn.Dropout(0.3)\n",
    "        ),\n",
    "        nn.Sequential(\n",
    "            torch.nn.Linear(8, 1),\n",
    "            torch.nn.Sigmoid() # Sigmoid activation layer, so value out is in (0,1) representing a probability\n",
    "        )\n",
    "])\n",
    "\n",
    "g_exp_ModuleList = nn.ModuleList([\n",
    "        nn.Sequential(\n",
    "            nn.Linear(1,8),\n",
    "            nn.LeakyReLU(0.1)\n",
    "        ),\n",
    "        nn.Sequential(\n",
    "            nn.Linear(8,8),\n",
    "            nn.LeakyReLU(0.1)\n",
    "        ),\n",
    "        nn.Sequential(\n",
    "            nn.Linear(8,1)\n",
    "            # Note: Don't want an activiation function here, as would mess with output, or do we??\n",
    "        )\n",
    "])\n",
    "# Note: it's important we make a new module list, as the module list stores the weights and biases.\n",
    "# So if we used the one from before it would copy the weights, which isn't what we want!"
   ]
  },
  {
   "cell_type": "code",
   "execution_count": 11,
   "metadata": {
    "colab": {},
    "colab_type": "code",
    "id": "Tw3BgzMmy_Yd"
   },
   "outputs": [],
   "source": [
    "exp_gan = GAN(d_exp_ModuleList,g_exp_ModuleList) # Note this is a new instance of GAN"
   ]
  },
  {
   "cell_type": "code",
   "execution_count": 12,
   "metadata": {
    "colab": {
     "base_uri": "https://localhost:8080/",
     "height": 857
    },
    "colab_type": "code",
    "id": "HZiGnX91y_Yh",
    "outputId": "ef83acd1-f584-488c-89aa-d2ef84f0bbd8"
   },
   "outputs": [
    {
     "name": "stdout",
     "output_type": "stream",
     "text": [
      "Training 10.0% Complete:\n",
      "\t Generator Loss =     0.6920204\n",
      "\t Discriminator Loss = 0.6946043\n",
      "\t\t avg prediction on real data = 0.49995834\n",
      "\t\t avg prediction on fake data = 0.50113606\n",
      "Training 20.0% Complete:\n",
      "\t Generator Loss =     0.68802035\n",
      "\t Discriminator Loss = 0.6918357\n",
      "\t\t avg prediction on real data = 0.49965397\n",
      "\t\t avg prediction on fake data = 0.49818954\n",
      "Training 30.0% Complete:\n",
      "\t Generator Loss =     0.69979227\n",
      "\t Discriminator Loss = 0.6920385\n",
      "\t\t avg prediction on real data = 0.49792847\n",
      "\t\t avg prediction on fake data = 0.49656904\n",
      "Training 40.0% Complete:\n",
      "\t Generator Loss =     0.69433516\n",
      "\t Discriminator Loss = 0.6904916\n",
      "\t\t avg prediction on real data = 0.5035168\n",
      "\t\t avg prediction on fake data = 0.5007875\n",
      "Training 50.0% Complete:\n",
      "\t Generator Loss =     0.6957861\n",
      "\t Discriminator Loss = 0.6828303\n",
      "\t\t avg prediction on real data = 0.50669247\n",
      "\t\t avg prediction on fake data = 0.49580544\n",
      "Training 60.0% Complete:\n",
      "\t Generator Loss =     0.6926608\n",
      "\t Discriminator Loss = 0.685242\n",
      "\t\t avg prediction on real data = 0.51018405\n",
      "\t\t avg prediction on fake data = 0.50156116\n",
      "Training 70.0% Complete:\n",
      "\t Generator Loss =     0.69176733\n",
      "\t Discriminator Loss = 0.69728625\n",
      "\t\t avg prediction on real data = 0.49398777\n",
      "\t\t avg prediction on fake data = 0.4979705\n",
      "Training 80.0% Complete:\n",
      "\t Generator Loss =     0.69760287\n",
      "\t Discriminator Loss = 0.6941027\n",
      "\t\t avg prediction on real data = 0.5006791\n",
      "\t\t avg prediction on fake data = 0.50151163\n",
      "Training 90.0% Complete:\n",
      "\t Generator Loss =     0.6956888\n",
      "\t Discriminator Loss = 0.6901807\n",
      "\t\t avg prediction on real data = 0.50202537\n",
      "\t\t avg prediction on fake data = 0.49900264\n",
      "Training 100.0% Complete:\n",
      "\t Generator Loss =     0.6886146\n",
      "\t Discriminator Loss = 0.6955885\n",
      "\t\t avg prediction on real data = 0.5021157\n",
      "\t\t avg prediction on fake data = 0.5044426\n"
     ]
    }
   ],
   "source": [
    "exp_gan.train(exp_data,50,350,0.0002)"
   ]
  },
  {
   "cell_type": "code",
   "execution_count": 13,
   "metadata": {
    "colab": {
     "base_uri": "https://localhost:8080/",
     "height": 265
    },
    "colab_type": "code",
    "id": "wf_Jp75Ey_Yp",
    "outputId": "6a0f034a-4aa6-48b8-db01-7cc770a76d9a"
   },
   "outputs": [
    {
     "data": {
      "image/png": "[encoded data removed]",
      "text/plain": [
       "<Figure size 432x288 with 1 Axes>"
      ]
     },
     "metadata": {
      "needs_background": "light"
     },
     "output_type": "display_data"
    }
   ],
   "source": [
    "sns.distplot(exp_gan.generate(1000),hist=False,label='fake')\n",
    "sns.distplot(exp_data,hist=False,label='real')\n",
    "plt.legend();"
   ]
  },
  {
   "cell_type": "markdown",
   "metadata": {
    "colab_type": "text",
    "id": "ajQGgJzoy_Yw"
   },
   "source": [
    "## 7. Learning a Multivariate Normal Distribution"
   ]
  },
  {
   "cell_type": "code",
   "execution_count": 14,
   "metadata": {
    "colab": {},
    "colab_type": "code",
    "id": "hd22F5dPy_Yy"
   },
   "outputs": [],
   "source": [
    "import torch.distributions as dist\n",
    "multivariate_normal = dist.MultivariateNormal(torch.zeros(2), torch.eye(2))\n",
    "multivariate_data = multivariate_normal.sample([5000])"
   ]
  },
  {
   "cell_type": "code",
   "execution_count": 15,
   "metadata": {
    "colab": {},
    "colab_type": "code",
    "id": "sUVCKNn8y_Y4"
   },
   "outputs": [],
   "source": [
    "d_multivariate_ModuleList = nn.ModuleList([\n",
    "        nn.Sequential( \n",
    "            nn.Linear(2, 8),\n",
    "            nn.LeakyReLU(0.2),\n",
    "            nn.Dropout(0.3)\n",
    "        ),\n",
    "        nn.Sequential(\n",
    "            nn.Linear(8, 8),\n",
    "            nn.LeakyReLU(0.2),\n",
    "            nn.Dropout(0.3)\n",
    "        ),\n",
    "        nn.Sequential(\n",
    "            torch.nn.Linear(8, 1),\n",
    "            torch.nn.Sigmoid() # Sigmoid activation layer, so value out is in (0,1) representing a probability\n",
    "        )\n",
    "])\n",
    "\n",
    "g_multivariate_ModuleList = nn.ModuleList([\n",
    "        nn.Sequential(\n",
    "            nn.Linear(2,8),\n",
    "            nn.LeakyReLU(0.1)\n",
    "        ),\n",
    "        nn.Sequential(\n",
    "            nn.Linear(8,8),\n",
    "            nn.LeakyReLU(0.1)\n",
    "        ),\n",
    "        nn.Sequential(\n",
    "            nn.Linear(8,2)\n",
    "            # Note: Don't want an activiation function here, as would mess with output, or do we??\n",
    "        )\n",
    "])\n",
    "# Note: The input,output for generator and input to discriminator are now 2, for 2D data!"
   ]
  },
  {
   "cell_type": "code",
   "execution_count": 16,
   "metadata": {
    "colab": {},
    "colab_type": "code",
    "id": "uCczZazpy_Y9"
   },
   "outputs": [],
   "source": [
    "multivariate_gan = GAN(d_multivariate_ModuleList,g_multivariate_ModuleList)"
   ]
  },
  {
   "cell_type": "code",
   "execution_count": 17,
   "metadata": {
    "colab": {
     "base_uri": "https://localhost:8080/",
     "height": 857
    },
    "colab_type": "code",
    "id": "1Ik_eiAMy_ZC",
    "outputId": "ead2bac6-ee79-4316-d9d8-5c47decad72a"
   },
   "outputs": [
    {
     "name": "stdout",
     "output_type": "stream",
     "text": [
      "Training 10.0% Complete:\n",
      "\t Generator Loss =     0.6756049\n",
      "\t Discriminator Loss = 0.68602806\n",
      "\t\t avg prediction on real data = 0.5071886\n",
      "\t\t avg prediction on fake data = 0.49785817\n",
      "Training 20.0% Complete:\n",
      "\t Generator Loss =     0.7049229\n",
      "\t Discriminator Loss = 0.6907416\n",
      "\t\t avg prediction on real data = 0.50689876\n",
      "\t\t avg prediction on fake data = 0.50303954\n",
      "Training 30.0% Complete:\n",
      "\t Generator Loss =     0.691252\n",
      "\t Discriminator Loss = 0.6912457\n",
      "\t\t avg prediction on real data = 0.5014795\n",
      "\t\t avg prediction on fake data = 0.4994437\n",
      "Training 40.0% Complete:\n",
      "\t Generator Loss =     0.6917526\n",
      "\t Discriminator Loss = 0.6935563\n",
      "\t\t avg prediction on real data = 0.5021179\n",
      "\t\t avg prediction on fake data = 0.5023464\n",
      "Training 50.0% Complete:\n",
      "\t Generator Loss =     0.6966855\n",
      "\t Discriminator Loss = 0.6898412\n",
      "\t\t avg prediction on real data = 0.502408\n",
      "\t\t avg prediction on fake data = 0.49894875\n",
      "Training 60.0% Complete:\n",
      "\t Generator Loss =     0.6959281\n",
      "\t Discriminator Loss = 0.69219255\n",
      "\t\t avg prediction on real data = 0.5009968\n",
      "\t\t avg prediction on fake data = 0.49997163\n",
      "Training 70.0% Complete:\n",
      "\t Generator Loss =     0.69403297\n",
      "\t Discriminator Loss = 0.6932049\n",
      "\t\t avg prediction on real data = 0.50100064\n",
      "\t\t avg prediction on fake data = 0.500975\n",
      "Training 80.0% Complete:\n",
      "\t Generator Loss =     0.69180304\n",
      "\t Discriminator Loss = 0.6907418\n",
      "\t\t avg prediction on real data = 0.5013714\n",
      "\t\t avg prediction on fake data = 0.4988907\n",
      "Training 90.0% Complete:\n",
      "\t Generator Loss =     0.69218016\n",
      "\t Discriminator Loss = 0.69423693\n",
      "\t\t avg prediction on real data = 0.49956882\n",
      "\t\t avg prediction on fake data = 0.50062126\n",
      "Training 100.0% Complete:\n",
      "\t Generator Loss =     0.69504845\n",
      "\t Discriminator Loss = 0.69369584\n",
      "\t\t avg prediction on real data = 0.49873838\n",
      "\t\t avg prediction on fake data = 0.49922332\n"
     ]
    }
   ],
   "source": [
    "multivariate_gan.train(multivariate_data,50,350,0.0002)"
   ]
  },
  {
   "cell_type": "code",
   "execution_count": 18,
   "metadata": {
    "colab": {
     "base_uri": "https://localhost:8080/",
     "height": 296
    },
    "colab_type": "code",
    "id": "J03ZmpFny_ZJ",
    "outputId": "c40c352c-939d-4e7c-ac36-890c1215f73c"
   },
   "outputs": [
    {
     "data": {
      "text/plain": [
       "<matplotlib.axes._subplots.AxesSubplot at 0x21fc48ec748>"
      ]
     },
     "execution_count": 18,
     "metadata": {},
     "output_type": "execute_result"
    },
    {
     "data": {
      "image/png": "[encoded data removed]",
      "text/plain": [
       "<Figure size 432x288 with 1 Axes>"
      ]
     },
     "metadata": {
      "needs_background": "light"
     },
     "output_type": "display_data"
    }
   ],
   "source": [
    "real_df = pd.DataFrame(multivariate_data,columns=['x','y'])\n",
    "sns.scatterplot(x=\"x\", y=\"y\", data=real_df)"
   ]
  },
  {
   "cell_type": "code",
   "execution_count": 19,
   "metadata": {
    "colab": {
     "base_uri": "https://localhost:8080/",
     "height": 296
    },
    "colab_type": "code",
    "id": "m72Trd_Sy_ZO",
    "outputId": "db915e50-754d-4dda-981d-163298028210"
   },
   "outputs": [
    {
     "data": {
      "text/plain": [
       "<matplotlib.axes._subplots.AxesSubplot at 0x21fc5b971c8>"
      ]
     },
     "execution_count": 19,
     "metadata": {},
     "output_type": "execute_result"
    },
    {
     "data": {
      "image/png": "[encoded data removed]",
      "text/plain": [
       "<Figure size 432x288 with 1 Axes>"
      ]
     },
     "metadata": {
      "needs_background": "light"
     },
     "output_type": "display_data"
    }
   ],
   "source": [
    "fake_df = pd.DataFrame(multivariate_gan.generate(1000),columns=['x','y'])\n",
    "sns.scatterplot(x=\"x\", y=\"y\", data=fake_df)"
   ]
  }
 ],
 "metadata": {
  "accelerator": "GPU",
  "colab": {
   "name": "OSGD - GAN Project - Encapsulating a GAN Object.ipynb",
   "provenance": []
  },
  "kernelspec": {
   "display_name": "Python 3",
   "language": "python",
   "name": "python3"
  },
  "language_info": {
   "codemirror_mode": {
    "name": "ipython",
    "version": 3
   },
   "file_extension": ".py",
   "mimetype": "text/x-python",
   "name": "python",
   "nbconvert_exporter": "python",
   "pygments_lexer": "ipython3",
   "version": "3.7.4"
  }
 },
 "nbformat": 4,
 "nbformat_minor": 1
}
